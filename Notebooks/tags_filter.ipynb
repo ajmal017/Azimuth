{
 "cells": [
  {
   "cell_type": "markdown",
   "execution_count": null,
   "metadata": {},
   "outputs": [],
   "source": [
    "# Value Investing Indicators from SEC Filings\n",
    "\n",
    "### Data Source: https://www.sec.gov/dera/data/financial-statement-data-sets.html\n",
    "\n"
   ]
  },
  {
   "cell_type": "code",
   "execution_count": 13,
   "metadata": {},
   "outputs": [],
   "source": [
    "import pandas as pd\n",
    "import os\n",
    "import shutil\n",
    "import glob\n",
    "import sys\n",
    "import warnings\n",
    "import functools\n",
    "from functools import reduce\n",
    "warnings.simplefilter(\"ignore\")\n",
    "\n",
    "os.chdir(\"..\")\n",
    "\n",
    "dir_root = os.getcwd()\n"
   ]
  },
  {
   "cell_type": "code",
   "execution_count": 2,
   "metadata": {},
   "outputs": [],
   "source": [
    "dir_raw = dir_root + u\"/sec_filings/Raw\"\n",
    "\n",
    "cik_lookup = pd.read_csv(dir_root + u\"/sec_filings/cik_ticker.csv\", usecols=['CIK', 'Ticker'], sep=\"|\")\n"
   ]
  },
  {
   "cell_type": "code",
   "execution_count": 3,
   "metadata": {},
   "outputs": [
    {
     "name": "stdout",
     "output_type": "stream",
     "text": "00.0000  \n...                              ...     ...              ...  \n124623                 NetIncomeLoss     USD    60973000.0000  \n124624            StockholdersEquity     USD  1958354000.0000  \n124625            StockholdersEquity     USD  2028195000.0000  \n124626            StockholdersEquity     USD  1798702000.0000  \n124627            StockholdersEquity     USD  1838096000.0000  \n\n[124628 rows x 10 columns]\n                        adsh        ein      cik   sic  \\\n0       0000002178-17-000081  741753147     2178  5172   \n1       0000002178-17-000081  741753147     2178  5172   \n2       0000002178-17-000081  741753147     2178  5172   \n3       0000002178-17-000081  741753147     2178  5172   \n4       0000002178-17-000081  741753147     2178  5172   \n...                      ...        ...      ...   ...   \n124664  0001721868-17-000188  880225807  1087022  3669   \n124665  0001721868-17-000188  880225807  1087022  3669   \n124666  0001721868-17-000188  880225807  1087022  3669   \n124667  0001721868-17-000188  880225807  1087022  3669   \n124668  0001721868-17-000188  880225807  1087022  3669   \n\n                                  name    period  fp  \\\n0       ADAMS RESOURCES & ENERGY, INC.  20170930  Q3   \n1       ADAMS RESOURCES & ENERGY, INC.  20170930  Q3   \n2       ADAMS RESOURCES & ENERGY, INC.  20170930  Q3   \n3       ADAMS RESOURCES & ENERGY, INC.  20170930  Q3   \n4       ADAMS RESOURCES & ENERGY, INC.  20170930  Q3   \n...                                ...       ...  ..   \n124664           ALR TECHNOLOGIES INC.  20160930  Q3   \n124665           ALR TECHNOLOGIES INC.  20160930  Q3   \n124666           ALR TECHNOLOGIES INC.  20160930  Q3   \n124667           ALR TECHNOLOGIES INC.  20160930  Q3   \n124668           ALR TECHNOLOGIES INC.  20160930  Q3   \n\n                                 tag     uom           value  \n0                      AssetsCurrent     USD  192518000.0000  \n1                      AssetsCurrent     USD  208439000.0000  \n2       CommonStockSharesOutstanding  shares    4217596.0000  \n3       CommonStockSharesOutstanding  shares    4217596.0000  \n4                        Liabilities     USD   95560000.0000  \n...                              ...     ...             ...  \n124664                 NetIncomeLoss     USD   -9428782.0000  \n124665           PreferredStockValue     USD             NaN  \n124666           PreferredStockValue     USD             NaN  \n124667            StockholdersEquity     USD  -20621972.0000  \n124668            StockholdersEquity     USD  -22604551.0000  \n\n[124669 rows x 10 columns]\n                        adsh        ein     cik   sic  \\\n0       0000002178-18-000009  741753147    2178  5172   \n1       0000002178-18-000009  741753147    2178  5172   \n2       0000002178-18-000009  741753147    2178  5172   \n3       0000002178-18-000009  741753147    2178  5172   \n4       0000002178-18-000009  741753147    2178  5172   \n...                      ...        ...     ...   ...   \n146670  0001728949-18-000011  953685934  804328  3663   \n146671  0001728949-18-000011  953685934  804328  3663   \n146672  0001728949-18-000011  953685934  804328  3663   \n146673  0001728949-18-000011  953685934  804328  3663   \n146674  0001728949-18-000011  953685934  804328  3663   \n\n                                  name    period  fp  \\\n0       ADAMS RESOURCES & ENERGY, INC.  20171231  FY   \n1       ADAMS RESOURCES & ENERGY, INC.  20171231  FY   \n2       ADAMS RESOURCES & ENERGY, INC.  20171231  FY   \n3       ADAMS RESOURCES & ENERGY, INC.  20171231  FY   \n4       ADAMS RESOURCES & ENERGY, INC.  20171231  FY   \n...                                ...       ...  ..   \n146670                 QUALCOMM INC/DE  20171231  Q1   \n146671                 QUALCOMM INC/DE  20171231  Q1   \n146672                 QUALCOMM INC/DE  20171231  Q1   \n146673                 QUALCOMM INC/DE  20171231  Q1   \n146674                 QUALCOMM INC/DE  20171231  Q1   \n\n                                                 tag     uom             value  \n0                                      AssetsCurrent     USD    192518000.0000  \n1                                      AssetsCurrent     USD    245685000.0000  \n2                       CommonStockSharesOutstanding  shares      4217596.0000  \n3                       CommonStockSharesOutstanding  shares      4217596.0000  \n4                                        Liabilities     USD     95560000.0000  \n...                                              ...     ...               ...  \n146670                                 NetIncomeLoss     USD  -5953000000.0000  \n146671                           PreferredStockValue     USD            0.0000  \n146672                           PreferredStockValue     USD            0.0000  \n146673  StockRepurchasedAndRetiredDuringPeriodShares  shares      6600000.0000  \n146674  StockRepurchasedAndRetiredDuringPeriodShares  shares      3700000.0000  \n\n[146675 rows x 10 columns]\n                        adsh        ein   cik   sic  \\\n0       0000002178-18-000022  741753147  2178  5172   \n1       0000002178-18-000022  741753147  2178  5172   \n2       0000002178-18-000022  741753147  2178  5172   \n3       0000002178-18-000022  741753147  2178  5172   \n4       0000002178-18-000022  741753147  2178  5172   \n...                      ...        ...   ...   ...   \n118153  0001733037-18-000003  410747868  6769  1311   \n118154  0001733037-18-000003  410747868  6769  1311   \n118155  0001733037-18-000003  410747868  6769  1311   \n118156  0001733037-18-000003  410747868  6769  1311   \n118157  0001733037-18-000003  410747868  6769  1311   \n\n                                  name    period  fp  \\\n0       ADAMS RESOURCES & ENERGY, INC.  20180331  Q1   \n1       ADAMS RESOURCES & ENERGY, INC.  20180331  Q1   \n2       ADAMS RESOURCES & ENERGY, INC.  20180331  Q1   \n3       ADAMS RESOURCES & ENERGY, INC.  20180331  Q1   \n4       ADAMS RESOURCES & ENERGY, INC.  20180331  Q1   \n...                                ...       ...  ..   \n118153                     APACHE CORP  20180331  Q1   \n118154                     APACHE CORP  20180331  Q1   \n118155                     APACHE CORP  20180331  Q1   \n118156                     APACHE CORP  20180331  Q1   \n118157                     APACHE CORP  20180331  Q1   \n\n                                 tag     uom            value  \n0                      AssetsCurrent     USD   245685000.0000  \n1                      AssetsCurrent     USD   249816000.0000  \n2       CommonStockSharesOutstanding  shares     4217596.0000  \n3       CommonStockSharesOutstanding  shares     4217596.0000  \n4                        Liabilities     USD   135585000.0000  \n...                              ...     ...              ...  \n118153         EarningsPerShareBasic     USD           0.3800  \n118154            LiabilitiesCurrent     USD  2564000000.0000  \n118155            LiabilitiesCurrent     USD  2342000000.0000  \n118156            StockholdersEquity     USD  7416000000.0000  \n118157            StockholdersEquity     USD  7502000000.0000  \n\n[118158 rows x 10 columns]\n                        adsh        ein      cik   sic  \\\n0       0000002178-18-000057  741753147     2178  5172   \n1       0000002178-18-000057  741753147     2178  5172   \n2       0000002178-18-000057  741753147     2178  5172   \n3       0000002178-18-000057  741753147     2178  5172   \n4       0000002178-18-000057  741753147     2178  5172   \n...                      ...        ...      ...   ...   \n113759  0001740797-18-000012  000000000  1740797  7374   \n113760  0001740797-18-000012  000000000  1740797  7374   \n113761  0001740797-18-000012  000000000  1740797  7374   \n113762  0001740797-18-000012  000000000  1740797  7374   \n113763  0001740797-18-000012  000000000  1740797  7374   \n\n                                  name    period  fp  \\\n0       ADAMS RESOURCES & ENERGY, INC.  20180630  Q2   \n1       ADAMS RESOURCES & ENERGY, INC.  20180630  Q2   \n2       ADAMS RESOURCES & ENERGY, INC.  20180630  Q2   \n3       ADAMS RESOURCES & ENERGY, INC.  20180630  Q2   \n4       ADAMS RESOURCES & ENERGY, INC.  20180630  Q2   \n...                                ...       ...  ..   \n113759                        FREECOOK  20180630  Q1   \n113760                        FREECOOK  20180630  Q1   \n113761                        FREECOOK  20180630  Q1   \n113762                        FREECOOK  20180630  Q1   \n113763                        FREECOOK  20180630  Q1   \n\n                                 tag     uom           value  \n0                      AssetsCurrent     USD  268780000.0000  \n1                      AssetsCurrent     USD  245685000.0000  \n2       CommonStockSharesOutstanding  shares    4217596.0000  \n3       CommonStockSharesOutstanding  shares    4217596.0000  \n4              EarningsPerShareBasic     USD          0.8600  \n...                              ...     ...             ...  \n113759            LiabilitiesCurrent     USD       6150.0000  \n113760            LiabilitiesCurrent     USD       5050.0000  \n113761                 NetIncomeLoss     USD      -6198.1300  \n113762            StockholdersEquity     USD      -2936.7600  \n113763            StockholdersEquity     USD       3261.3700  \n\n[113764 rows x 10 columns]\n                        adsh        ein      cik   sic  \\\n0       0000002178-18-000067  741753147     2178  5172   \n1       0000002178-18-000067  741753147     2178  5172   \n2       0000002178-18-000067  741753147     2178  5172   \n3       0000002178-18-000067  741753147     2178  5172   \n4       0000002178-18-000067  741753147     2178  5172   \n...                      ...        ...      ...   ...   \n114033  0001761088-18-000010  208980078  1400683  8742   \n114034  0001761088-18-000010  208980078  1400683  8742   \n114035  0001761088-18-000010  208980078  1400683  8742   \n114036  0001761088-18-000010  208980078  1400683  8742   \n114037  0001761088-18-000010  208980078  1400683  8742   \n\n                                  name    period  fp  \\\n0       ADAMS RESOURCES & ENERGY, INC.  20180930  Q3   \n1       ADAMS RESOURCES & ENERGY, INC.  20180930  Q3   \n2       ADAMS RESOURCES & ENERGY, INC.  20180930  Q3   \n3       ADAMS RESOURCES & ENERGY, INC.  20180930  Q3   \n4       ADAMS RESOURCES & ENERGY, INC.  20180930  Q3   \n...                                ...       ...  ..   \n114033            STWC. HOLDINGS, INC.  20181031  Q3   \n114034            STWC. HOLDINGS, INC.  20181031  Q3   \n114035            STWC. HOLDINGS, INC.  20181031  Q3   \n114036            STWC. HOLDINGS, INC.  20181031  Q3   \n114037            STWC. HOLDINGS, INC.  20181031  Q3   \n\n                                 tag     uom           value  \n0                      AssetsCurrent     USD  245685000.0000  \n1                      AssetsCurrent     USD  275730000.0000  \n2                PreferredStockValue     USD          0.0000  \n3                PreferredStockValue     USD          0.0000  \n4       CommonStockSharesOutstanding  shares    4217596.0000  \n...                              ...     ...             ...  \n114033            StockholdersEquity     USD    -338116.0000  \n114034                   GrossProfit     USD     -35121.0000  \n114035                   GrossProfit     USD       1027.0000  \n114036                   GrossProfit     USD          0.0000  \n114037                   GrossProfit     USD     118806.0000  \n\n[114038 rows x 10 columns]\n                        adsh        ein      cik   sic  \\\n0       0000002178-19-000011  741753147     2178  5172   \n1       0000002178-19-000011  741753147     2178  5172   \n2       0000002178-19-000011  741753147     2178  5172   \n3       0000002178-19-000011  741753147     2178  5172   \n4       0000002178-19-000011  741753147     2178  5172   \n...                      ...        ...      ...   ...   \n128134  0001761088-19-000023  000000000  1536089  1000   \n128135  0001761088-19-000023  000000000  1536089  1000   \n128136  0001761088-19-000023  000000000  1536089  1000   \n128137  0001761088-19-000023  000000000  1536089  1000   \n128138  0001761088-19-000023  000000000  1536089  1000   \n\n                                  name    period  fp  \\\n0       ADAMS RESOURCES & ENERGY, INC.  20181231  FY   \n1       ADAMS RESOURCES & ENERGY, INC.  20181231  FY   \n2       ADAMS RESOURCES & ENERGY, INC.  20181231  FY   \n3       ADAMS RESOURCES & ENERGY, INC.  20181231  FY   \n4       ADAMS RESOURCES & ENERGY, INC.  20181231  FY   \n...                                ...       ...  ..   \n128134         MASCOTA RESOURCES CORP.  20181130  FY   \n128135         MASCOTA RESOURCES CORP.  20181130  FY   \n128136         MASCOTA RESOURCES CORP.  20181130  FY   \n128137         MASCOTA RESOURCES CORP.  20181130  FY   \n128138         MASCOTA RESOURCES CORP.  20181130  FY   \n\n                                 tag     uom           value  \n0                      AssetsCurrent     USD  229590000.0000  \n1                      AssetsCurrent     USD  245685000.0000  \n2                PreferredStockValue     USD          0.0000  \n3                PreferredStockValue     USD          0.0000  \n4       CommonStockSharesOutstanding  shares    4217596.0000  \n...                              ...     ...             ...  \n128134            LiabilitiesCurrent     USD      40404.0000  \n128135            LiabilitiesCurrent     USD      48989.0000  \n128136            StockholdersEquity     USD      51554.0000  \n128137            StockholdersEquity     USD     -32558.0000  \n128138                    SharePrice     USD          0.1000  \n\n[128139 rows x 10 columns]\n                        adsh        ein      cik   sic  \\\n0       0000002178-19-000020  741753147     2178  5172   \n1       0000002178-19-000020  741753147     2178  5172   \n2       0000002178-19-000020  741753147     2178  5172   \n3       0000002178-19-000020  741753147     2178  5172   \n4       0000002178-19-000020  741753147     2178  5172   \n...                      ...        ...      ...   ...   \n114497  0001766016-19-000003  000000000  1766016  8200   \n114498  0001766016-19-000003  000000000  1766016  8200   \n114499  0001766016-19-000003  000000000  1766016  8200   \n114500  0001766016-19-000003  000000000  1766016  8200   \n114501  0001766016-19-000003  000000000  1766016  8200   \n\n                                  name    period  fp  \\\n0       ADAMS RESOURCES & ENERGY, INC.  20190331  Q1   \n1       ADAMS RESOURCES & ENERGY, INC.  20190331  Q1   \n2       ADAMS RESOURCES & ENERGY, INC.  20190331  Q1   \n3       ADAMS RESOURCES & ENERGY, INC.  20190331  Q1   \n4       ADAMS RESOURCES & ENERGY, INC.  20190331  Q1   \n...                                ...       ...  ..   \n114497      CRUCIAL INNOVATIONS, CORP.  20190331  Q1   \n114498      CRUCIAL INNOVATIONS, CORP.  20190331  Q1   \n114499      CRUCIAL INNOVATIONS, CORP.  20190331  Q1   \n114500      CRUCIAL INNOVATIONS, CORP.  20190331  Q1   \n114501      CRUCIAL INNOVATIONS, CORP.  20190331  Q1   \n\n                                 tag     uom           value  \n0                      AssetsCurrent     USD  229590000.0000  \n1                      AssetsCurrent     USD  252086000.0000  \n2                PreferredStockValue     USD          0.0000  \n3                PreferredStockValue     USD          0.0000  \n4       CommonStockSharesOutstanding  shares    4217971.0000  \n...                              ...     ...             ...  \n114497  CommonStockSharesOutstanding  shares    1600000.0000  \n114498                   Liabilities     USD      36133.0000  \n114499                   Liabilities     USD      28523.0000  \n114500                 NetIncomeLoss     USD      -7610.0000  \n114501                 NetIncomeLoss     USD       -923.0000  \n\n[114502 rows x 10 columns]\n                        adsh        ein      cik   sic  \\\n0       0000002178-19-000086  741753147     2178  5172   \n1       0000002178-19-000086  741753147     2178  5172   \n2       0000002178-19-000086  741753147     2178  5172   \n3       0000002178-19-000086  741753147     2178  5172   \n4       0000002178-19-000086  741753147     2178  5172   \n...                      ...        ...      ...   ...   \n122449  0001784031-19-000003  814675947  1692787  4922   \n122450  0001784031-19-000003  814675947  1692787  4922   \n122451  0001784031-19-000003  814675947  1692787  4922   \n122452  0001784031-19-000003  814675947  1692787  4922   \n122453  0001784031-19-000003  814675947  1692787  4922   \n\n                                  name    period  fp  \\\n0       ADAMS RESOURCES & ENERGY, INC.  20190630  Q2   \n1       ADAMS RESOURCES & ENERGY, INC.  20190630  Q2   \n2       ADAMS RESOURCES & ENERGY, INC.  20190630  Q2   \n3       ADAMS RESOURCES & ENERGY, INC.  20190630  Q2   \n4       ADAMS RESOURCES & ENERGY, INC.  20190630  Q2   \n...                                ...       ...  ..   \n122449              ALTUS MIDSTREAM CO  20190630  Q2   \n122450              ALTUS MIDSTREAM CO  20190630  Q2   \n122451              ALTUS MIDSTREAM CO  20190630  Q2   \n122452              ALTUS MIDSTREAM CO  20190630  Q2   \n122453              ALTUS MIDSTREAM CO  20190630  Q2   \n\n                                 tag     uom            value  \n0                      AssetsCurrent     USD   231307000.0000  \n1                      AssetsCurrent     USD   229590000.0000  \n2       CommonStockSharesOutstanding  shares     4217596.0000  \n3       CommonStockSharesOutstanding  shares     4217971.0000  \n4       CommonStockSharesOutstanding  shares     4233587.0000  \n...                              ...     ...              ...  \n122449            StockholdersEquity     USD   671214000.0000  \n122450            StockholdersEquity     USD   814345000.0000  \n122451            StockholdersEquity     USD  -213714000.0000  \n122452            StockholdersEquity     USD   228014000.0000  \n122453            StockholdersEquity     USD   449178000.0000  \n\n[122454 rows x 10 columns]\n                        adsh        ein      cik   sic  \\\n0       0000002178-19-000107  741753147     2178  5172   \n1       0000002178-19-000107  741753147     2178  5172   \n2       0000002178-19-000107  741753147     2178  5172   \n3       0000002178-19-000107  741753147     2178  5172   \n4       0000002178-19-000107  741753147     2178  5172   \n...                      ...        ...      ...   ...   \n129173  0001785982-19-000066  000000000  1347491  6770   \n129174  0001785982-19-000066  000000000  1347491  6770   \n129175  0001785982-19-000066  000000000  1347491  6770   \n129176  0001785982-19-000066  000000000  1347491  6770   \n129177  0001785982-19-000066  000000000  1347491  6770   \n\n                                  name    period  fp  \\\n0       ADAMS RESOURCES & ENERGY, INC.  20190930  Q3   \n1       ADAMS RESOURCES & ENERGY, INC.  20190930  Q3   \n2       ADAMS RESOURCES & ENERGY, INC.  20190930  Q3   \n3       ADAMS RESOURCES & ENERGY, INC.  20190930  Q3   \n4       ADAMS RESOURCES & ENERGY, INC.  20190930  Q3   \n...                                ...       ...  ..   \n129173              DIAMOND CARTEL INC  20191031  Q2   \n129174              DIAMOND CARTEL INC  20191031  Q2   \n129175              DIAMOND CARTEL INC  20191031  Q2   \n129176              DIAMOND CARTEL INC  20191031  Q2   \n129177              DIAMOND CARTEL INC  20191031  Q2   \n\n                                 tag     uom           value  \n0                      AssetsCurrent     USD  236253000.0000  \n1                      AssetsCurrent     USD  229590000.0000  \n2       CommonStockSharesOutstanding  shares    4217596.0000  \n3       CommonStockSharesOutstanding  shares    4217971.0000  \n4       CommonStockSharesOutstanding  shares    4233587.0000  \n...                              ...     ...             ...  \n129173            StockholdersEquity     USD     -97268.0000  \n129174            StockholdersEquity     USD     -82062.0000  \n129175            StockholdersEquity     USD     -69985.0000  \n129176           PreferredStockValue     USD             NaN  \n129177           PreferredStockValue     USD             NaN  \n\n[129178 rows x 10 columns]\n"
    }
   ],
   "source": [
    "num_tags = [\"PreferredStockValue\", \"AssetsCurrent\", \"Liabilities\", \"EarningsPerShareBasic\", \"CommonStockSharesOutstanding\", \"LiabilitiesCurrent\", \"EarningsPerShareBasic\", \"SharePrice\", \"StockholdersEquity\", \"PreferredStockValue\", \"CommonStockSharesOutstanding\", \"NetIncomeLoss\", \"GrossProfit\", \"SalesRevenueNet\",\"StockRepurchasedAndRetiredDuringPeriodShares\"]\n",
    "\n",
    "num_cols = ['adsh', 'tag', 'uom', 'value']\n",
    "\n",
    "sub_cols = ['adsh', 'ein', 'cik', 'sic', 'name', 'period', 'fp']\n",
    "\n",
    "files_num = sorted(glob.glob(dir_raw + u'/*_num.txt'))\n",
    "\n",
    "files_sub = sorted(glob.glob(dir_raw + u'/*_sub.txt'))\n",
    "\n",
    "sec_df = pd.DataFrame([])\n",
    "\n",
    "for num, sub in zip(files_num, files_sub):\n",
    "    df_num = pd.read_csv(num, sep='\\t', dtype=str, encoding = \"ISO-8859-1\")\n",
    "    df_sub = pd.read_csv(sub, sep='\\t', dtype=str, encoding = \"ISO-8859-1\")\n",
    "    df_sub = df_sub[sub_cols]\n",
    "    df_num = df_num[num_cols]\n",
    "    df_num = df_num[df_num['tag'].isin(num_tags)]\n",
    "    sec_merge = df_sub.merge(df_num, on='adsh', sort=True)\n",
    "    print(sec_merge)\n",
    "\n",
    "    sec_df = sec_df.append(sec_merge)\n"
   ]
  },
  {
   "cell_type": "code",
   "execution_count": 4,
   "metadata": {},
   "outputs": [
    {
     "name": "stdout",
     "output_type": "stream",
     "text": "adsh      cik        ein  fp                     name  \\\n0       0000038074-09-000029    38074  111798614  FY  FOREST LABORATORIES INC   \n1       0000038074-09-000029    38074  111798614  FY  FOREST LABORATORIES INC   \n2       0000038074-09-000029    38074  111798614  FY  FOREST LABORATORIES INC   \n3       0000038074-09-000029    38074  111798614  FY  FOREST LABORATORIES INC   \n4       0000038074-09-000029    38074  111798614  FY  FOREST LABORATORIES INC   \n...                      ...      ...        ...  ..                      ...   \n129173  0001785982-19-000066  1347491  000000000  Q2       DIAMOND CARTEL INC   \n129174  0001785982-19-000066  1347491  000000000  Q2       DIAMOND CARTEL INC   \n129175  0001785982-19-000066  1347491  000000000  Q2       DIAMOND CARTEL INC   \n129176  0001785982-19-000066  1347491  000000000  Q2       DIAMOND CARTEL INC   \n129177  0001785982-19-000066  1347491  000000000  Q2       DIAMOND CARTEL INC   \n\n          period   sic                    tag  uom            value ticker  \n0       20090331  2834          AssetsCurrent  USD  3036649000.0000    NaN  \n1       20090331  2834          AssetsCurrent  USD  3785954000.0000    NaN  \n2       20090331  2834  EarningsPerShareBasic  USD           1.4300    NaN  \n3       20090331  2834  EarningsPerShareBasic  USD           3.0800    NaN  \n4       20090331  2834  EarningsPerShareBasic  USD           2.5300    NaN  \n...          ...   ...                    ...  ...              ...    ...  \n129173  20191031  6770     StockholdersEquity  USD      -97268.0000    NaN  \n129174  20191031  6770     StockholdersEquity  USD      -82062.0000    NaN  \n129175  20191031  6770     StockholdersEquity  USD      -69985.0000    NaN  \n129176  20191031  6770    PreferredStockValue  USD              NaN    NaN  \n129177  20191031  6770    PreferredStockValue  USD              NaN    NaN  \n\n[5213136 rows x 11 columns]\n"
    }
   ],
   "source": [
    "cik_lookup.columns = cik_lookup.columns.str.lower()\n",
    "\n",
    "sec_df['ticker'] = sec_df['cik'].map(cik_lookup.set_index('cik')['ticker'].to_dict())\n",
    "\n",
    "sec_df['cik'] = sec_df['cik'].astype(str)\n",
    "\n",
    "cik_lookup['cik'] = cik_lookup['cik'].astype(str)\n",
    "\n",
    "print(sec_df)\n"
   ]
  },
  {
   "cell_type": "code",
   "execution_count": 22,
   "metadata": {},
   "outputs": [
    {
     "name": "stdout",
     "output_type": "stream",
     "text": "adsh     uom                                 name  \\\n3578    0001047469-10-001324  shares        SIMON PROPERTY GROUP INC /DE/   \n3709    0001047469-10-001456  shares                              DIRECTV   \n3710    0001047469-10-001456  shares                              DIRECTV   \n7021    0001193125-10-042997  shares                         STRYKER CORP   \n7040    0001193125-10-043015  shares             PUBLIX SUPER MARKETS INC   \n...                      ...     ...                                  ...   \n126803  0001711269-19-000063  shares                         EVERGY, INC.   \n126804  0001711269-19-000063  shares                         EVERGY, INC.   \n127677  0001730168-19-000144  shares                        BROADCOM INC.   \n127678  0001730168-19-000144  shares                        BROADCOM INC.   \n128506  0001747079-19-000074  shares  TWIN RIVER WORLDWIDE HOLDINGS, INC.   \n\n            cik  fp StockRepurchasedAndRetiredDuringPeriodShares  \n3578    1063761  FY                                   23000.0000  \n3709    1465112  FY                                          NaN  \n3710    1465112  FY                                          NaN  \n7021     310764  FY                                17400000.0000  \n7040      81061  FY                                19462000.0000  \n...         ...  ..                                          ...  \n126803  1711269  Q3                                27500000.0000  \n126804  1711269  Q3                                43900000.0000  \n127677  1730168  FY                                32000000.0000  \n127678  1730168  FY                                21000000.0000  \n128506  1747079  Q3                                 1431980.0000  \n\n[13877 rows x 6 columns]\n"
    },
    {
     "ename": "AttributeError",
     "evalue": "'bool' object has no attribute 'any'",
     "output_type": "error",
     "traceback": [
      "\u001b[0;31m---------------------------------------------------------------------------\u001b[0m",
      "\u001b[0;31mAttributeError\u001b[0m                            Traceback (most recent call last)",
      "\u001b[0;32m<ipython-input-22-b59e4850e0cc>\u001b[0m in \u001b[0;36m<module>\u001b[0;34m\u001b[0m\n\u001b[1;32m     40\u001b[0m NetIncomeLoss, GrossProfit, SalesRevenueNet,StockRepurchasedAndRetiredDuringPeriodShares]\n\u001b[1;32m     41\u001b[0m \u001b[0;34m\u001b[0m\u001b[0m\n\u001b[0;32m---> 42\u001b[0;31m \u001b[0msec_curated\u001b[0m \u001b[0;34m=\u001b[0m \u001b[0mreduce\u001b[0m\u001b[0;34m(\u001b[0m\u001b[0;32mlambda\u001b[0m \u001b[0mdf1\u001b[0m\u001b[0;34m,\u001b[0m\u001b[0mdf2\u001b[0m\u001b[0;34m:\u001b[0m \u001b[0mdf1\u001b[0m\u001b[0;34m.\u001b[0m\u001b[0mmerge\u001b[0m\u001b[0;34m(\u001b[0m\u001b[0mdf2\u001b[0m\u001b[0;34m,\u001b[0m\u001b[0mon\u001b[0m\u001b[0;34m=\u001b[0m\u001b[0;34m[\u001b[0m\u001b[0;34m'adsh'\u001b[0m\u001b[0;34m,\u001b[0m \u001b[0;34m'uom'\u001b[0m\u001b[0;34m,\u001b[0m \u001b[0;34m'name'\u001b[0m\u001b[0;34m,\u001b[0m \u001b[0;34m'cik'\u001b[0m\u001b[0;34m,\u001b[0m \u001b[0;34m'fp'\u001b[0m\u001b[0;34m]\u001b[0m\u001b[0;34m)\u001b[0m\u001b[0;34m,\u001b[0m \u001b[0mdfList\u001b[0m\u001b[0;34m)\u001b[0m\u001b[0;34m\u001b[0m\u001b[0;34m\u001b[0m\u001b[0m\n\u001b[0m",
      "\u001b[0;32m<ipython-input-22-b59e4850e0cc>\u001b[0m in \u001b[0;36m<lambda>\u001b[0;34m(df1, df2)\u001b[0m\n\u001b[1;32m     40\u001b[0m NetIncomeLoss, GrossProfit, SalesRevenueNet,StockRepurchasedAndRetiredDuringPeriodShares]\n\u001b[1;32m     41\u001b[0m \u001b[0;34m\u001b[0m\u001b[0m\n\u001b[0;32m---> 42\u001b[0;31m \u001b[0msec_curated\u001b[0m \u001b[0;34m=\u001b[0m \u001b[0mreduce\u001b[0m\u001b[0;34m(\u001b[0m\u001b[0;32mlambda\u001b[0m \u001b[0mdf1\u001b[0m\u001b[0;34m,\u001b[0m\u001b[0mdf2\u001b[0m\u001b[0;34m:\u001b[0m \u001b[0mdf1\u001b[0m\u001b[0;34m.\u001b[0m\u001b[0mmerge\u001b[0m\u001b[0;34m(\u001b[0m\u001b[0mdf2\u001b[0m\u001b[0;34m,\u001b[0m\u001b[0mon\u001b[0m\u001b[0;34m=\u001b[0m\u001b[0;34m[\u001b[0m\u001b[0;34m'adsh'\u001b[0m\u001b[0;34m,\u001b[0m \u001b[0;34m'uom'\u001b[0m\u001b[0;34m,\u001b[0m \u001b[0;34m'name'\u001b[0m\u001b[0;34m,\u001b[0m \u001b[0;34m'cik'\u001b[0m\u001b[0;34m,\u001b[0m \u001b[0;34m'fp'\u001b[0m\u001b[0;34m]\u001b[0m\u001b[0;34m)\u001b[0m\u001b[0;34m,\u001b[0m \u001b[0mdfList\u001b[0m\u001b[0;34m)\u001b[0m\u001b[0;34m\u001b[0m\u001b[0;34m\u001b[0m\u001b[0m\n\u001b[0m",
      "\u001b[0;32m~/.local/lib/python3.6/site-packages/pandas/core/frame.py\u001b[0m in \u001b[0;36mmerge\u001b[0;34m(self, right, how, on, left_on, right_on, left_index, right_index, sort, suffixes, copy, indicator, validate)\u001b[0m\n\u001b[1;32m   7347\u001b[0m             \u001b[0mcopy\u001b[0m\u001b[0;34m=\u001b[0m\u001b[0mcopy\u001b[0m\u001b[0;34m,\u001b[0m\u001b[0;34m\u001b[0m\u001b[0;34m\u001b[0m\u001b[0m\n\u001b[1;32m   7348\u001b[0m             \u001b[0mindicator\u001b[0m\u001b[0;34m=\u001b[0m\u001b[0mindicator\u001b[0m\u001b[0;34m,\u001b[0m\u001b[0;34m\u001b[0m\u001b[0;34m\u001b[0m\u001b[0m\n\u001b[0;32m-> 7349\u001b[0;31m             \u001b[0mvalidate\u001b[0m\u001b[0;34m=\u001b[0m\u001b[0mvalidate\u001b[0m\u001b[0;34m,\u001b[0m\u001b[0;34m\u001b[0m\u001b[0;34m\u001b[0m\u001b[0m\n\u001b[0m\u001b[1;32m   7350\u001b[0m         )\n\u001b[1;32m   7351\u001b[0m \u001b[0;34m\u001b[0m\u001b[0m\n",
      "\u001b[0;32m~/.local/lib/python3.6/site-packages/pandas/core/reshape/merge.py\u001b[0m in \u001b[0;36mmerge\u001b[0;34m(left, right, how, on, left_on, right_on, left_index, right_index, sort, suffixes, copy, indicator, validate)\u001b[0m\n\u001b[1;32m     81\u001b[0m         \u001b[0mvalidate\u001b[0m\u001b[0;34m=\u001b[0m\u001b[0mvalidate\u001b[0m\u001b[0;34m,\u001b[0m\u001b[0;34m\u001b[0m\u001b[0;34m\u001b[0m\u001b[0m\n\u001b[1;32m     82\u001b[0m     )\n\u001b[0;32m---> 83\u001b[0;31m     \u001b[0;32mreturn\u001b[0m \u001b[0mop\u001b[0m\u001b[0;34m.\u001b[0m\u001b[0mget_result\u001b[0m\u001b[0;34m(\u001b[0m\u001b[0;34m)\u001b[0m\u001b[0;34m\u001b[0m\u001b[0;34m\u001b[0m\u001b[0m\n\u001b[0m\u001b[1;32m     84\u001b[0m \u001b[0;34m\u001b[0m\u001b[0m\n\u001b[1;32m     85\u001b[0m \u001b[0;34m\u001b[0m\u001b[0m\n",
      "\u001b[0;32m~/.local/lib/python3.6/site-packages/pandas/core/reshape/merge.py\u001b[0m in \u001b[0;36mget_result\u001b[0;34m(self)\u001b[0m\n\u001b[1;32m    640\u001b[0m             \u001b[0mself\u001b[0m\u001b[0;34m.\u001b[0m\u001b[0mleft\u001b[0m\u001b[0;34m,\u001b[0m \u001b[0mself\u001b[0m\u001b[0;34m.\u001b[0m\u001b[0mright\u001b[0m \u001b[0;34m=\u001b[0m \u001b[0mself\u001b[0m\u001b[0;34m.\u001b[0m\u001b[0m_indicator_pre_merge\u001b[0m\u001b[0;34m(\u001b[0m\u001b[0mself\u001b[0m\u001b[0;34m.\u001b[0m\u001b[0mleft\u001b[0m\u001b[0;34m,\u001b[0m \u001b[0mself\u001b[0m\u001b[0;34m.\u001b[0m\u001b[0mright\u001b[0m\u001b[0;34m)\u001b[0m\u001b[0;34m\u001b[0m\u001b[0;34m\u001b[0m\u001b[0m\n\u001b[1;32m    641\u001b[0m \u001b[0;34m\u001b[0m\u001b[0m\n\u001b[0;32m--> 642\u001b[0;31m         \u001b[0mjoin_index\u001b[0m\u001b[0;34m,\u001b[0m \u001b[0mleft_indexer\u001b[0m\u001b[0;34m,\u001b[0m \u001b[0mright_indexer\u001b[0m \u001b[0;34m=\u001b[0m \u001b[0mself\u001b[0m\u001b[0;34m.\u001b[0m\u001b[0m_get_join_info\u001b[0m\u001b[0;34m(\u001b[0m\u001b[0;34m)\u001b[0m\u001b[0;34m\u001b[0m\u001b[0;34m\u001b[0m\u001b[0m\n\u001b[0m\u001b[1;32m    643\u001b[0m \u001b[0;34m\u001b[0m\u001b[0m\n\u001b[1;32m    644\u001b[0m         \u001b[0mldata\u001b[0m\u001b[0;34m,\u001b[0m \u001b[0mrdata\u001b[0m \u001b[0;34m=\u001b[0m \u001b[0mself\u001b[0m\u001b[0;34m.\u001b[0m\u001b[0mleft\u001b[0m\u001b[0;34m.\u001b[0m\u001b[0m_data\u001b[0m\u001b[0;34m,\u001b[0m \u001b[0mself\u001b[0m\u001b[0;34m.\u001b[0m\u001b[0mright\u001b[0m\u001b[0;34m.\u001b[0m\u001b[0m_data\u001b[0m\u001b[0;34m\u001b[0m\u001b[0;34m\u001b[0m\u001b[0m\n",
      "\u001b[0;32m~/.local/lib/python3.6/site-packages/pandas/core/reshape/merge.py\u001b[0m in \u001b[0;36m_get_join_info\u001b[0;34m(self)\u001b[0m\n\u001b[1;32m    857\u001b[0m             )\n\u001b[1;32m    858\u001b[0m         \u001b[0;32melse\u001b[0m\u001b[0;34m:\u001b[0m\u001b[0;34m\u001b[0m\u001b[0;34m\u001b[0m\u001b[0m\n\u001b[0;32m--> 859\u001b[0;31m             \u001b[0;34m(\u001b[0m\u001b[0mleft_indexer\u001b[0m\u001b[0;34m,\u001b[0m \u001b[0mright_indexer\u001b[0m\u001b[0;34m)\u001b[0m \u001b[0;34m=\u001b[0m \u001b[0mself\u001b[0m\u001b[0;34m.\u001b[0m\u001b[0m_get_join_indexers\u001b[0m\u001b[0;34m(\u001b[0m\u001b[0;34m)\u001b[0m\u001b[0;34m\u001b[0m\u001b[0;34m\u001b[0m\u001b[0m\n\u001b[0m\u001b[1;32m    860\u001b[0m \u001b[0;34m\u001b[0m\u001b[0m\n\u001b[1;32m    861\u001b[0m             \u001b[0;32mif\u001b[0m \u001b[0mself\u001b[0m\u001b[0;34m.\u001b[0m\u001b[0mright_index\u001b[0m\u001b[0;34m:\u001b[0m\u001b[0;34m\u001b[0m\u001b[0;34m\u001b[0m\u001b[0m\n",
      "\u001b[0;32m~/.local/lib/python3.6/site-packages/pandas/core/reshape/merge.py\u001b[0m in \u001b[0;36m_get_join_indexers\u001b[0;34m(self)\u001b[0m\n\u001b[1;32m    836\u001b[0m         \u001b[0;34m\"\"\" return the join indexers \"\"\"\u001b[0m\u001b[0;34m\u001b[0m\u001b[0;34m\u001b[0m\u001b[0m\n\u001b[1;32m    837\u001b[0m         return _get_join_indexers(\n\u001b[0;32m--> 838\u001b[0;31m             \u001b[0mself\u001b[0m\u001b[0;34m.\u001b[0m\u001b[0mleft_join_keys\u001b[0m\u001b[0;34m,\u001b[0m \u001b[0mself\u001b[0m\u001b[0;34m.\u001b[0m\u001b[0mright_join_keys\u001b[0m\u001b[0;34m,\u001b[0m \u001b[0msort\u001b[0m\u001b[0;34m=\u001b[0m\u001b[0mself\u001b[0m\u001b[0;34m.\u001b[0m\u001b[0msort\u001b[0m\u001b[0;34m,\u001b[0m \u001b[0mhow\u001b[0m\u001b[0;34m=\u001b[0m\u001b[0mself\u001b[0m\u001b[0;34m.\u001b[0m\u001b[0mhow\u001b[0m\u001b[0;34m\u001b[0m\u001b[0;34m\u001b[0m\u001b[0m\n\u001b[0m\u001b[1;32m    839\u001b[0m         )\n\u001b[1;32m    840\u001b[0m \u001b[0;34m\u001b[0m\u001b[0m\n",
      "\u001b[0;32m~/.local/lib/python3.6/site-packages/pandas/core/reshape/merge.py\u001b[0m in \u001b[0;36m_get_join_indexers\u001b[0;34m(left_keys, right_keys, sort, how, **kwargs)\u001b[0m\n\u001b[1;32m   1310\u001b[0m     \u001b[0;31m# `count` is the num. of unique keys\u001b[0m\u001b[0;34m\u001b[0m\u001b[0;34m\u001b[0m\u001b[0;34m\u001b[0m\u001b[0m\n\u001b[1;32m   1311\u001b[0m     \u001b[0;31m# set(lkey) | set(rkey) == range(count)\u001b[0m\u001b[0;34m\u001b[0m\u001b[0;34m\u001b[0m\u001b[0;34m\u001b[0m\u001b[0m\n\u001b[0;32m-> 1312\u001b[0;31m     \u001b[0mlkey\u001b[0m\u001b[0;34m,\u001b[0m \u001b[0mrkey\u001b[0m\u001b[0;34m,\u001b[0m \u001b[0mcount\u001b[0m \u001b[0;34m=\u001b[0m \u001b[0mfkeys\u001b[0m\u001b[0;34m(\u001b[0m\u001b[0mlkey\u001b[0m\u001b[0;34m,\u001b[0m \u001b[0mrkey\u001b[0m\u001b[0;34m)\u001b[0m\u001b[0;34m\u001b[0m\u001b[0;34m\u001b[0m\u001b[0m\n\u001b[0m\u001b[1;32m   1313\u001b[0m \u001b[0;34m\u001b[0m\u001b[0m\n\u001b[1;32m   1314\u001b[0m     \u001b[0;31m# preserve left frame order if how == 'left' and sort == False\u001b[0m\u001b[0;34m\u001b[0m\u001b[0;34m\u001b[0m\u001b[0;34m\u001b[0m\u001b[0m\n",
      "\u001b[0;32m~/.local/lib/python3.6/site-packages/pandas/core/reshape/merge.py\u001b[0m in \u001b[0;36m_factorize_keys\u001b[0;34m(lk, rk, sort)\u001b[0m\n\u001b[1;32m   1911\u001b[0m     \u001b[0;31m# NA group\u001b[0m\u001b[0;34m\u001b[0m\u001b[0;34m\u001b[0m\u001b[0;34m\u001b[0m\u001b[0m\n\u001b[1;32m   1912\u001b[0m     \u001b[0mlmask\u001b[0m \u001b[0;34m=\u001b[0m \u001b[0mllab\u001b[0m \u001b[0;34m==\u001b[0m \u001b[0;34m-\u001b[0m\u001b[0;36m1\u001b[0m\u001b[0;34m\u001b[0m\u001b[0;34m\u001b[0m\u001b[0m\n\u001b[0;32m-> 1913\u001b[0;31m     \u001b[0mlany\u001b[0m \u001b[0;34m=\u001b[0m \u001b[0mlmask\u001b[0m\u001b[0;34m.\u001b[0m\u001b[0many\u001b[0m\u001b[0;34m(\u001b[0m\u001b[0;34m)\u001b[0m\u001b[0;34m\u001b[0m\u001b[0;34m\u001b[0m\u001b[0m\n\u001b[0m\u001b[1;32m   1914\u001b[0m     \u001b[0mrmask\u001b[0m \u001b[0;34m=\u001b[0m \u001b[0mrlab\u001b[0m \u001b[0;34m==\u001b[0m \u001b[0;34m-\u001b[0m\u001b[0;36m1\u001b[0m\u001b[0;34m\u001b[0m\u001b[0;34m\u001b[0m\u001b[0m\n\u001b[1;32m   1915\u001b[0m     \u001b[0mrany\u001b[0m \u001b[0;34m=\u001b[0m \u001b[0mrmask\u001b[0m\u001b[0;34m.\u001b[0m\u001b[0many\u001b[0m\u001b[0;34m(\u001b[0m\u001b[0;34m)\u001b[0m\u001b[0;34m\u001b[0m\u001b[0;34m\u001b[0m\u001b[0m\n",
      "\u001b[0;31mAttributeError\u001b[0m: 'bool' object has no attribute 'any'"
     ]
    }
   ],
   "source": [
    "sec_df = sec_df[['adsh', 'uom', 'name', 'cik', 'tag', 'fp', 'value']]\n",
    "\n",
    "PreferredStockValue = sec_df[sec_df[\"tag\"] == \"PreferredStockValue\"].drop(columns=['tag']).rename(columns={\"value\": \"PreferredStockValue\"})\n",
    "AssetsCurrent = sec_df[sec_df[\"tag\"] == \"AssetsCurrent\"].drop(columns=['tag']).rename(columns={'value': 'AssetsCurrent'})\n",
    "Liabilities = sec_df[sec_df[\"tag\"] == \"Liabilities\"].drop(columns=['tag']).rename(columns={'value': 'Liabilities'})\n",
    "EarningsPerShareBasic = sec_df[sec_df[\"tag\"] == \"EarningsPerShareBasic\"].drop(columns=['tag']).rename(columns={'value': 'EarningsPerShareBasic'})\n",
    "CommonStockSharesOutstanding = sec_df[sec_df[\"tag\"] == \"CommonStockSharesOutstanding\"].drop(columns=['tag']).rename(columns={'value': 'CommonStockSharesOutstanding'})\n",
    "LiabilitiesCurrent = sec_df[sec_df[\"tag\"] == \"LiabilitiesCurrent\"].drop(columns=['tag']).rename(columns={'value': 'LiabilitiesCurrent'})\n",
    "EarningsPerShareBasic = sec_df[sec_df[\"tag\"] == \"EarningsPerShareBasic\"].drop(columns=['tag']).rename(columns={'value': 'EarningsPerShareBasic'})\n",
    "SharePrice = sec_df[sec_df[\"tag\"] == \"SharePrice\"].drop(columns=['tag']).rename(columns={'value': 'SharePrice'})\n",
    "StockholdersEquity = sec_df[sec_df[\"tag\"] == \"StockholdersEquity\"].drop(columns=['tag']).rename(columns={'value': 'StockholdersEquity'})\n",
    "PreferredStockValue = sec_df[sec_df[\"tag\"] == \"PreferredStockValue\"].drop(columns=['tag']).rename(columns={'value': 'PreferredStockValue'})\n",
    "CommonStockSharesOutstanding = sec_df[sec_df[\"tag\"] == \"CommonStockSharesOutstanding\"].drop(columns=['tag']).rename(columns={'value': 'CommonStockSharesOutstanding'})\n",
    "NetIncomeLoss = sec_df[sec_df[\"tag\"] == \"NetIncomeLoss\"].drop(columns=['tag']).rename(columns={'value': 'NetIncomeLoss'})\n",
    "GrossProfit = sec_df[sec_df[\"tag\"] == \"GrossProfit\"].drop(columns=['tag']).rename(columns={'value': 'GrossProfit'})\n",
    "SalesRevenueNet = sec_df[sec_df[\"tag\"] == \"SalesRevenueNet\"].drop(columns=['tag']).rename(columns={'value': 'SalesRevenueNet'})\n",
    "StockRepurchasedAndRetiredDuringPeriodShares = sec_df[sec_df[\"tag\"] == \"StockRepurchasedAndRetiredDuringPeriodShares\"].drop(columns=['tag']).rename(columns={'value': 'StockRepurchasedAndRetiredDuringPeriodShares'})\n",
    "\n",
    "print(StockRepurchasedAndRetiredDuringPeriodShares)\n",
    "\n",
    "dfList = [sec_df, PreferredStockValue, AssetsCurrent, Liabilities, EarningsPerShareBasic, \n",
    "CommonStockSharesOutstanding, LiabilitiesCurrent, EarningsPerShareBasic, \n",
    "SharePrice, StockholdersEquity, PreferredStockValue, CommonStockSharesOutstanding, \n",
    "NetIncomeLoss, GrossProfit, SalesRevenueNet,StockRepurchasedAndRetiredDuringPeriodShares]\n",
    "\n",
    "sec_curated = reduce(lambda df1,df2: df1.merge(df2,on=['adsh', 'uom', 'name', 'cik', 'fp']), dfList)\n"
   ]
  },
  {
   "cell_type": "markdown",
   "execution_count": null,
   "metadata": {},
   "outputs": [],
   "source": [
    "# Benjamin Graham \n",
    "\n",
    "## Formulas:\n",
    "\n",
    "* NCAVPS = CurrentAssets - (Total Liabilities + Preferred Stock) ÷ Shares Outstanding\n",
    "    * Less than 1.10 \n",
    "\n",
    "* Debt to Assets = Current Assets / Current Liabilities\n",
    "    * Greater than 1.50\n",
    "\n",
    "* Price / Earnings per Share ratio \n",
    "    * Less than 9.0\n",
    "\n",
    "* PRICE TO BOOK VALUE = (P/BV) \n",
    "    * Where BV = (Total Shareholder Equity−Preferred Stock)/ Total Outstanding Shares\n",
    "    * Less than 1.20. P/E ratios\n",
    "\n",
    "## References:\n",
    "\n",
    "Benjamin Graham rules: https://cabotwealth.com/daily/value-investing/benjamin-grahams-value-stock-criteria/ \n",
    "\n",
    "Benjamin Graham rules Modified: https://www.netnethunter.com/16-benjamin-graham-rules/ \n",
    "\n"
   ]
  },
  {
   "cell_type": "code",
   "execution_count": null,
   "metadata": {},
   "outputs": [],
   "source": [
    "\n",
    "sec_df['NCAVPS'] = sec_df['AssetsCurrent'] - (sec_df['Liabilities'] + sec_df[\n",
    "'PreferredStockValue']) / sec_df['CommonStockSharesOutstanding']\n",
    "\n",
    "sec_df['DebtToAssets'] = sec_df['AssetsCurrent'] / sec_df['LiabilitiesCurrent']\n",
    "\n",
    "sec_df['PE'] = sec_df['SharePrice'] / sec_df['EarningsPerShareBasic'] \n",
    "\n",
    "sec_df['PBV'] = sec_df['SharePrice'] / ((sec_df['StockholdersEquity'] - sec_df['PreferredStockValue']) / sec_df['CommonStockSharesOutstanding'])\n"
   ]
  },
  {
   "cell_type": "markdown",
   "execution_count": null,
   "metadata": {},
   "outputs": [],
   "source": [
    "# Warren Buffet Rules \n",
    "\n",
    "## Formulas\n",
    "\n",
    "* Debt/Equity= Total Liabilities / Total Shareholders’ Equity \n",
    "    * Less than 1 and ROE is greater than 10%\n",
    "\n",
    "* Return on Earnings = (Net Income / Stock Holders Equity)\n",
    "    * Is Positive\n",
    "\n",
    "* Gross Profit Margin = Gross Profit / Revenue \n",
    "    * Greater than 40% \n",
    "​\n",
    "* Quarter over Quarter EPS \n",
    "    * Greater than 10\n",
    "\n",
    "* Stock Buybacks\n",
    "    * Greater than last period\n",
    "\n",
    "## References: \n",
    "https://www.oldschoolvalue.com/tutorial/this-is-how-buffett-interprets-financial-statements/"
   ]
  },
  {
   "cell_type": "code",
   "execution_count": null,
   "metadata": {},
   "outputs": [],
   "source": [
    "\n",
    "sec_df['DebtEquity'] = sec_df['Liabilities'] / sec_df['StockholdersEquity']\n",
    "\n",
    "sec_df['ReturnEarnings'] = sec_df['NetIncomeLoss'] / sec_df['StockholdersEquity']\n",
    "\n",
    "sec_df[\"GrossProfitMargin\"] = sec_df['GrossProfit'] / sec_df['SalesRevenueNet']\n",
    "\n",
    "sec_df[\"EPS\"] = sec_df[\"EarningsPerShareBasic\"]\n",
    "\n",
    "sec_df[\"StockBuybacks\"] = sec_df[\"StockRepurchasedAndRetiredDuringPeriodShares\"]"
   ]
  }
 ],
 "metadata": {
  "kernelspec": {
   "display_name": "Python 3.6.9 64-bit ('Azimuth': conda)",
   "language": "python",
   "name": "python36964bitazimuthconda01a010e6991749689b1430cc07fcd8a1"
  },
  "language_info": {
   "codemirror_mode": {
    "name": "ipython",
    "version": 3
   },
   "file_extension": ".py",
   "mimetype": "text/x-python",
   "name": "python",
   "nbconvert_exporter": "python",
   "pygments_lexer": "ipython3",
   "version": "3.6.9-final"
  }
 },
 "nbformat": 4,
 "nbformat_minor": 4
}