{
 "cells": [
  {
   "cell_type": "markdown",
   "execution_count": null,
   "metadata": {},
   "outputs": [],
   "source": [
    "# Value Investing Indicators from SEC Filings\n",
    "\n",
    "### Data Source: https://www.sec.gov/dera/data/financial-statement-data-sets.html\n",
    "\n"
   ]
  },
  {
   "cell_type": "code",
   "execution_count": 1,
   "metadata": {},
   "outputs": [],
   "source": [
    "import pandas as pd\n",
    "import os\n",
    "import shutil\n",
    "import glob\n",
    "import sys\n",
    "import warnings\n",
    "import functools\n",
    "from functools import reduce\n",
    "warnings.simplefilter(\"ignore\")\n",
    "\n",
    "os.chdir(\"..\")\n",
    "\n",
    "dir_root = os.getcwd()\n"
   ]
  },
  {
   "cell_type": "code",
   "execution_count": 2,
   "metadata": {},
   "outputs": [],
   "source": [
    "dir_raw = dir_root + u\"/sec_filings/Raw\"\n",
    "\n",
    "cik_lookup = pd.read_csv(dir_root + u\"/sec_filings/cik_ticker.csv\", usecols=['CIK', 'Ticker'], sep=\"|\")\n"
   ]
  },
  {
   "cell_type": "code",
   "execution_count": 3,
   "metadata": {},
   "outputs": [],
   "source": [
    "num_tags = [\"PreferredStockValue\", \"AssetsCurrent\", \"Liabilities\", \"EarningsPerShareBasic\", \"CommonStockSharesOutstanding\", \"LiabilitiesCurrent\", \"EarningsPerShareBasic\", \"SharePrice\", \"StockholdersEquity\", \"PreferredStockValue\", \"CommonStockSharesOutstanding\", \"NetIncomeLoss\", \"GrossProfit\", \"SalesRevenueNet\",\"StockRepurchasedAndRetiredDuringPeriodShares\"]\n",
    "\n",
    "num_cols = ['adsh', 'tag', 'version', 'uom', 'ddate', 'qtrs', 'value']\n",
    "\n",
    "sub_cols = ['adsh', 'ein', 'cik', 'sic', 'name', 'period', 'fye', 'form','filed','fp']\n",
    "\n",
    "\n",
    "\n",
    "files_num = sorted(glob.glob(dir_raw + u'/*_num.txt'))\n",
    "\n",
    "files_sub = sorted(glob.glob(dir_raw + u'/*_sub.txt'))\n",
    "\n",
    "files_pre = sorted(glob.glob(dir_raw + u'/*_pre.txt'))\n",
    "\n",
    "sec_df = pd.DataFrame([])\n",
    "\n",
    "for num, sub, pre in zip(files_num, files_sub, files_pre):\n",
    "    df_num = pd.read_csv(num, sep='\\t', dtype=str, encoding = \"ISO-8859-1\")\n",
    "    df_sub = pd.read_csv(sub, sep='\\t', dtype=str, encoding = \"ISO-8859-1\")\n",
    "    df_pre = pd.read_csv(pre, sep='\\t', dtype=str, encoding = \"ISO-8859-1\")\n",
    "    df_sub = df_sub[sub_cols]\n",
    "    df_num = df_num[num_cols]\n",
    "    df_num = df_num[df_num['tag'].isin(num_tags)]\n",
    "    df_pre = df_pre.merge(df_num, on=['adsh', 'tag', 'version'], sort=True)\n",
    "    sec_merge = df_sub.merge(df_pre, on='adsh', how=\"inner\", sort=True)\n",
    "    sec_df = sec_df.append(sec_merge)\n"
   ]
  },
  {
   "cell_type": "code",
   "execution_count": null,
   "metadata": {},
   "outputs": [],
   "source": [
    "sec_df.columns.values"
   ]
  },
  {
   "cell_type": "code",
   "execution_count": null,
   "metadata": {},
   "outputs": [],
   "source": [
    "# cik_lookup.columns = cik_lookup.columns.str.lower()\n",
    "\n",
    "# sec_df['ticker'] = sec_df['cik'].map(cik_lookup.set_index('cik')['ticker'].to_dict())\n",
    "\n",
    "# sec_df['cik'] = sec_df['cik'].astype(str)\n",
    "\n",
    "# cik_lookup['cik'] = cik_lookup['cik'].astype(str)\n",
    "\n",
    "import os \n",
    "\n",
    "path = os.getcwd()\n",
    "\n",
    "sec_df.to_csv(path + r'/test.csv', index=False)\n"
   ]
  },
  {
   "cell_type": "code",
   "execution_count": null,
   "metadata": {},
   "outputs": [],
   "source": [
    "sec_df = sec_df[['adsh', 'uom', 'name', 'cik', 'tag', 'fp', 'value']]\n",
    "\n",
    "PreferredStockValue = sec_df[sec_df[\"tag\"] == \"PreferredStockValue\"].drop(columns=['tag']).rename(columns={\"value\": \"PreferredStockValue\"})\n",
    "AssetsCurrent = sec_df[sec_df[\"tag\"] == \"AssetsCurrent\"].drop(columns=['tag']).rename(columns={'value': 'AssetsCurrent'})\n",
    "Liabilities = sec_df[sec_df[\"tag\"] == \"Liabilities\"].drop(columns=['tag']).rename(columns={'value': 'Liabilities'})\n",
    "EarningsPerShareBasic = sec_df[sec_df[\"tag\"] == \"EarningsPerShareBasic\"].drop(columns=['tag']).rename(columns={'value': 'EarningsPerShareBasic'})\n",
    "CommonStockSharesOutstanding = sec_df[sec_df[\"tag\"] == \"CommonStockSharesOutstanding\"].drop(columns=['tag']).rename(columns={'value': 'CommonStockSharesOutstanding'})\n",
    "LiabilitiesCurrent = sec_df[sec_df[\"tag\"] == \"LiabilitiesCurrent\"].drop(columns=['tag']).rename(columns={'value': 'LiabilitiesCurrent'})\n",
    "EarningsPerShareBasic = sec_df[sec_df[\"tag\"] == \"EarningsPerShareBasic\"].drop(columns=['tag']).rename(columns={'value': 'EarningsPerShareBasic'})\n",
    "SharePrice = sec_df[sec_df[\"tag\"] == \"SharePrice\"].drop(columns=['tag']).rename(columns={'value': 'SharePrice'})\n",
    "StockholdersEquity = sec_df[sec_df[\"tag\"] == \"StockholdersEquity\"].drop(columns=['tag']).rename(columns={'value': 'StockholdersEquity'})\n",
    "PreferredStockValue = sec_df[sec_df[\"tag\"] == \"PreferredStockValue\"].drop(columns=['tag']).rename(columns={'value': 'PreferredStockValue'})\n",
    "CommonStockSharesOutstanding = sec_df[sec_df[\"tag\"] == \"CommonStockSharesOutstanding\"].drop(columns=['tag']).rename(columns={'value': 'CommonStockSharesOutstanding'})\n",
    "NetIncomeLoss = sec_df[sec_df[\"tag\"] == \"NetIncomeLoss\"].drop(columns=['tag']).rename(columns={'value': 'NetIncomeLoss'})\n",
    "GrossProfit = sec_df[sec_df[\"tag\"] == \"GrossProfit\"].drop(columns=['tag']).rename(columns={'value': 'GrossProfit'})\n",
    "SalesRevenueNet = sec_df[sec_df[\"tag\"] == \"SalesRevenueNet\"].drop(columns=['tag']).rename(columns={'value': 'SalesRevenueNet'})\n",
    "StockRepurchasedAndRetiredDuringPeriodShares = sec_df[sec_df[\"tag\"] == \"StockRepurchasedAndRetiredDuringPeriodShares\"].drop(columns=['tag']).rename(columns={'value': 'StockRepurchasedAndRetiredDuringPeriodShares'})\n",
    "\n",
    "print(StockRepurchasedAndRetiredDuringPeriodShares)\n",
    "\n",
    "dfList = [sec_df, PreferredStockValue, AssetsCurrent, Liabilities, EarningsPerShareBasic, \n",
    "CommonStockSharesOutstanding, LiabilitiesCurrent, EarningsPerShareBasic, \n",
    "SharePrice, StockholdersEquity, PreferredStockValue, CommonStockSharesOutstanding, \n",
    "NetIncomeLoss, GrossProfit, SalesRevenueNet,StockRepurchasedAndRetiredDuringPeriodShares]\n",
    "\n",
    "sec_curated = reduce(lambda df1,df2: df1.merge(df2,on=['adsh', 'uom', 'name', 'cik', 'fp']), dfList)\n"
   ]
  },
  {
   "cell_type": "markdown",
   "execution_count": null,
   "metadata": {},
   "outputs": [],
   "source": [
    "# Benjamin Graham \n",
    "\n",
    "## Formulas:\n",
    "\n",
    "* NCAVPS = CurrentAssets - (Total Liabilities + Preferred Stock) ÷ Shares Outstanding\n",
    "    * Less than 1.10 \n",
    "\n",
    "* Debt to Assets = Current Assets / Current Liabilities\n",
    "    * Greater than 1.50\n",
    "\n",
    "* Price / Earnings per Share ratio \n",
    "    * Less than 9.0\n",
    "\n",
    "* PRICE TO BOOK VALUE = (P/BV) \n",
    "    * Where BV = (Total Shareholder Equity−Preferred Stock)/ Total Outstanding Shares\n",
    "    * Less than 1.20. P/E ratios\n",
    "\n",
    "## References:\n",
    "\n",
    "Benjamin Graham rules: https://cabotwealth.com/daily/value-investing/benjamin-grahams-value-stock-criteria/ \n",
    "\n",
    "Benjamin Graham rules Modified: https://www.netnethunter.com/16-benjamin-graham-rules/ \n",
    "\n"
   ]
  },
  {
   "cell_type": "code",
   "execution_count": null,
   "metadata": {},
   "outputs": [],
   "source": [
    "\n",
    "sec_df['NCAVPS'] = sec_df['AssetsCurrent'] - (sec_df['Liabilities'] + sec_df[\n",
    "'PreferredStockValue']) / sec_df['CommonStockSharesOutstanding']\n",
    "\n",
    "sec_df['DebtToAssets'] = sec_df['AssetsCurrent'] / sec_df['LiabilitiesCurrent']\n",
    "\n",
    "sec_df['PE'] = sec_df['SharePrice'] / sec_df['EarningsPerShareBasic'] \n",
    "\n",
    "sec_df['PBV'] = sec_df['SharePrice'] / ((sec_df['StockholdersEquity'] - sec_df['PreferredStockValue']) / sec_df['CommonStockSharesOutstanding'])\n"
   ]
  },
  {
   "cell_type": "markdown",
   "execution_count": null,
   "metadata": {},
   "outputs": [],
   "source": [
    "# Warren Buffet Rules \n",
    "\n",
    "## Formulas\n",
    "\n",
    "* Debt/Equity= Total Liabilities / Total Shareholders’ Equity \n",
    "    * Less than 1 and ROE is greater than 10%\n",
    "\n",
    "* Return on Earnings = (Net Income / Stock Holders Equity)\n",
    "    * Is Positive\n",
    "\n",
    "* Gross Profit Margin = Gross Profit / Revenue \n",
    "    * Greater than 40% \n",
    "​\n",
    "* Quarter over Quarter EPS \n",
    "    * Greater than 10\n",
    "\n",
    "* Stock Buybacks\n",
    "    * Greater than last period\n",
    "\n",
    "## References: \n",
    "https://www.oldschoolvalue.com/tutorial/this-is-how-buffett-interprets-financial-statements/"
   ]
  },
  {
   "cell_type": "code",
   "execution_count": null,
   "metadata": {},
   "outputs": [],
   "source": [
    "\n",
    "sec_df['DebtEquity'] = sec_df['Liabilities'] / sec_df['StockholdersEquity']\n",
    "\n",
    "sec_df['ReturnEarnings'] = sec_df['NetIncomeLoss'] / sec_df['StockholdersEquity']\n",
    "\n",
    "sec_df[\"GrossProfitMargin\"] = sec_df['GrossProfit'] / sec_df['SalesRevenueNet']\n",
    "\n",
    "sec_df[\"EPS\"] = sec_df[\"EarningsPerShareBasic\"]\n",
    "\n",
    "sec_df[\"StockBuybacks\"] = sec_df[\"StockRepurchasedAndRetiredDuringPeriodShares\"]"
   ]
  }
 ],
 "metadata": {
  "kernelspec": {
   "display_name": "Python 3.6.9 64-bit ('Azimuth': conda)",
   "language": "python",
   "name": "python36964bitazimuthconda01a010e6991749689b1430cc07fcd8a1"
  },
  "language_info": {
   "codemirror_mode": {
    "name": "ipython",
    "version": 3
   },
   "file_extension": ".py",
   "mimetype": "text/x-python",
   "name": "python",
   "nbconvert_exporter": "python",
   "pygments_lexer": "ipython3",
   "version": "3.6.9-final"
  }
 },
 "nbformat": 4,
 "nbformat_minor": 4
}