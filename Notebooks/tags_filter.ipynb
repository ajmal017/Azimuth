{
 "cells": [
  {
   "source": [
    "import pandas as pd\n",
    "import os\n",
    "import shutil"
   ],
   "cell_type": "code",
   "outputs": [],
   "metadata": {},
   "execution_count": 2
  },
  {
   "source": [
    "os.chdir(\"..\")\n",
    "\n",
    "dir_root = os.getcwd()\n",
    "\n",
    "dir_raw = dir_root + u\"/sec_filings/Raw\"\n",
    "\n",
    "print(dir_raw)\n",
    "\n",
    "# Azimuth/Trader/sec_filings/Raw/2019q4_num.txt"
   ],
   "cell_type": "code",
   "outputs": [
    {
     "output_type": "stream",
     "name": "stdout",
     "text": "/home/wc/Azimuth/Trader/sec_filings/Raw\n"
    }
   ],
   "metadata": {},
   "execution_count": 3
  },
  {
   "source": [
    "x = pd.read_csv(dir_raw + u'/2019q4_num.txt', sep='\\t')"
   ],
   "cell_type": "code",
   "outputs": [],
   "metadata": {},
   "execution_count": 4
  },
  {
   "source": [
    "print(x.head())"
   ],
   "cell_type": "code",
   "outputs": [
    {
     "output_type": "stream",
     "name": "stdout",
     "text": "adsh                       tag      version         coreg  \\\n0  0001558370-19-008908  DerivativeNotionalAmount  invest/2013  FerrellgasLP   \n1  0001558370-19-008908  DerivativeNotionalAmount  invest/2013  FerrellgasLP   \n2  0001558370-19-008908  DerivativeNotionalAmount  invest/2013  FerrellgasLP   \n3  0001558370-19-008908  DerivativeNotionalAmount  invest/2013           NaN   \n4  0001558370-19-008908  DerivativeNotionalAmount  invest/2013           NaN   \n\n      ddate  qtrs  uom        value footnote  \n0  20180531     0  USD  100000000.0      NaN  \n1  20170731     0  USD  175000000.0      NaN  \n2  20120531     0  USD  140000000.0      NaN  \n3  20180531     0  USD  100000000.0      NaN  \n4  20180430     0  USD  100000000.0      NaN  \n"
    }
   ],
   "metadata": {},
   "execution_count": 5
  },
  {
   "source": [
    "tags = set(x['datatype'].values)\n",
    "print(tags)\n",
    "\n",
    "# Trading Symbol"
   ],
   "cell_type": "code",
   "outputs": [
    {
     "output_type": "error",
     "ename": "KeyError",
     "evalue": "'datatype'",
     "traceback": [
      "\u001b[0;31m---------------------------------------------------------------------------\u001b[0m",
      "\u001b[0;31mKeyError\u001b[0m                                  Traceback (most recent call last)",
      "\u001b[0;32m~/anaconda3/envs/PythonGPU/lib/python3.7/site-packages/pandas/core/indexes/base.py\u001b[0m in \u001b[0;36mget_loc\u001b[0;34m(self, key, method, tolerance)\u001b[0m\n\u001b[1;32m   2896\u001b[0m             \u001b[0;32mtry\u001b[0m\u001b[0;34m:\u001b[0m\u001b[0;34m\u001b[0m\u001b[0;34m\u001b[0m\u001b[0m\n\u001b[0;32m-> 2897\u001b[0;31m                 \u001b[0;32mreturn\u001b[0m \u001b[0mself\u001b[0m\u001b[0;34m.\u001b[0m\u001b[0m_engine\u001b[0m\u001b[0;34m.\u001b[0m\u001b[0mget_loc\u001b[0m\u001b[0;34m(\u001b[0m\u001b[0mkey\u001b[0m\u001b[0;34m)\u001b[0m\u001b[0;34m\u001b[0m\u001b[0;34m\u001b[0m\u001b[0m\n\u001b[0m\u001b[1;32m   2898\u001b[0m             \u001b[0;32mexcept\u001b[0m \u001b[0mKeyError\u001b[0m\u001b[0;34m:\u001b[0m\u001b[0;34m\u001b[0m\u001b[0;34m\u001b[0m\u001b[0m\n",
      "\u001b[0;32mpandas/_libs/index.pyx\u001b[0m in \u001b[0;36mpandas._libs.index.IndexEngine.get_loc\u001b[0;34m()\u001b[0m\n",
      "\u001b[0;32mpandas/_libs/index.pyx\u001b[0m in \u001b[0;36mpandas._libs.index.IndexEngine.get_loc\u001b[0;34m()\u001b[0m\n",
      "\u001b[0;32mpandas/_libs/hashtable_class_helper.pxi\u001b[0m in \u001b[0;36mpandas._libs.hashtable.PyObjectHashTable.get_item\u001b[0;34m()\u001b[0m\n",
      "\u001b[0;32mpandas/_libs/hashtable_class_helper.pxi\u001b[0m in \u001b[0;36mpandas._libs.hashtable.PyObjectHashTable.get_item\u001b[0;34m()\u001b[0m\n",
      "\u001b[0;31mKeyError\u001b[0m: 'datatype'",
      "\nDuring handling of the above exception, another exception occurred:\n",
      "\u001b[0;31mKeyError\u001b[0m                                  Traceback (most recent call last)",
      "\u001b[0;32m<ipython-input-6-9a7974be6544>\u001b[0m in \u001b[0;36m<module>\u001b[0;34m\u001b[0m\n\u001b[0;32m----> 1\u001b[0;31m \u001b[0mtags\u001b[0m \u001b[0;34m=\u001b[0m \u001b[0mset\u001b[0m\u001b[0;34m(\u001b[0m\u001b[0mx\u001b[0m\u001b[0;34m[\u001b[0m\u001b[0;34m'datatype'\u001b[0m\u001b[0;34m]\u001b[0m\u001b[0;34m.\u001b[0m\u001b[0mvalues\u001b[0m\u001b[0;34m)\u001b[0m\u001b[0;34m\u001b[0m\u001b[0;34m\u001b[0m\u001b[0m\n\u001b[0m\u001b[1;32m      2\u001b[0m \u001b[0mprint\u001b[0m\u001b[0;34m(\u001b[0m\u001b[0mtags\u001b[0m\u001b[0;34m)\u001b[0m\u001b[0;34m\u001b[0m\u001b[0;34m\u001b[0m\u001b[0m\n\u001b[1;32m      3\u001b[0m \u001b[0;34m\u001b[0m\u001b[0m\n\u001b[1;32m      4\u001b[0m \u001b[0;31m# Trading Symbol\u001b[0m\u001b[0;34m\u001b[0m\u001b[0;34m\u001b[0m\u001b[0;34m\u001b[0m\u001b[0m\n",
      "\u001b[0;32m~/anaconda3/envs/PythonGPU/lib/python3.7/site-packages/pandas/core/frame.py\u001b[0m in \u001b[0;36m__getitem__\u001b[0;34m(self, key)\u001b[0m\n\u001b[1;32m   2993\u001b[0m             \u001b[0;32mif\u001b[0m \u001b[0mself\u001b[0m\u001b[0;34m.\u001b[0m\u001b[0mcolumns\u001b[0m\u001b[0;34m.\u001b[0m\u001b[0mnlevels\u001b[0m \u001b[0;34m>\u001b[0m \u001b[0;36m1\u001b[0m\u001b[0;34m:\u001b[0m\u001b[0;34m\u001b[0m\u001b[0;34m\u001b[0m\u001b[0m\n\u001b[1;32m   2994\u001b[0m                 \u001b[0;32mreturn\u001b[0m \u001b[0mself\u001b[0m\u001b[0;34m.\u001b[0m\u001b[0m_getitem_multilevel\u001b[0m\u001b[0;34m(\u001b[0m\u001b[0mkey\u001b[0m\u001b[0;34m)\u001b[0m\u001b[0;34m\u001b[0m\u001b[0;34m\u001b[0m\u001b[0m\n\u001b[0;32m-> 2995\u001b[0;31m             \u001b[0mindexer\u001b[0m \u001b[0;34m=\u001b[0m \u001b[0mself\u001b[0m\u001b[0;34m.\u001b[0m\u001b[0mcolumns\u001b[0m\u001b[0;34m.\u001b[0m\u001b[0mget_loc\u001b[0m\u001b[0;34m(\u001b[0m\u001b[0mkey\u001b[0m\u001b[0;34m)\u001b[0m\u001b[0;34m\u001b[0m\u001b[0;34m\u001b[0m\u001b[0m\n\u001b[0m\u001b[1;32m   2996\u001b[0m             \u001b[0;32mif\u001b[0m \u001b[0mis_integer\u001b[0m\u001b[0;34m(\u001b[0m\u001b[0mindexer\u001b[0m\u001b[0;34m)\u001b[0m\u001b[0;34m:\u001b[0m\u001b[0;34m\u001b[0m\u001b[0;34m\u001b[0m\u001b[0m\n\u001b[1;32m   2997\u001b[0m                 \u001b[0mindexer\u001b[0m \u001b[0;34m=\u001b[0m \u001b[0;34m[\u001b[0m\u001b[0mindexer\u001b[0m\u001b[0;34m]\u001b[0m\u001b[0;34m\u001b[0m\u001b[0;34m\u001b[0m\u001b[0m\n",
      "\u001b[0;32m~/anaconda3/envs/PythonGPU/lib/python3.7/site-packages/pandas/core/indexes/base.py\u001b[0m in \u001b[0;36mget_loc\u001b[0;34m(self, key, method, tolerance)\u001b[0m\n\u001b[1;32m   2897\u001b[0m                 \u001b[0;32mreturn\u001b[0m \u001b[0mself\u001b[0m\u001b[0;34m.\u001b[0m\u001b[0m_engine\u001b[0m\u001b[0;34m.\u001b[0m\u001b[0mget_loc\u001b[0m\u001b[0;34m(\u001b[0m\u001b[0mkey\u001b[0m\u001b[0;34m)\u001b[0m\u001b[0;34m\u001b[0m\u001b[0;34m\u001b[0m\u001b[0m\n\u001b[1;32m   2898\u001b[0m             \u001b[0;32mexcept\u001b[0m \u001b[0mKeyError\u001b[0m\u001b[0;34m:\u001b[0m\u001b[0;34m\u001b[0m\u001b[0;34m\u001b[0m\u001b[0m\n\u001b[0;32m-> 2899\u001b[0;31m                 \u001b[0;32mreturn\u001b[0m \u001b[0mself\u001b[0m\u001b[0;34m.\u001b[0m\u001b[0m_engine\u001b[0m\u001b[0;34m.\u001b[0m\u001b[0mget_loc\u001b[0m\u001b[0;34m(\u001b[0m\u001b[0mself\u001b[0m\u001b[0;34m.\u001b[0m\u001b[0m_maybe_cast_indexer\u001b[0m\u001b[0;34m(\u001b[0m\u001b[0mkey\u001b[0m\u001b[0;34m)\u001b[0m\u001b[0;34m)\u001b[0m\u001b[0;34m\u001b[0m\u001b[0;34m\u001b[0m\u001b[0m\n\u001b[0m\u001b[1;32m   2900\u001b[0m         \u001b[0mindexer\u001b[0m \u001b[0;34m=\u001b[0m \u001b[0mself\u001b[0m\u001b[0;34m.\u001b[0m\u001b[0mget_indexer\u001b[0m\u001b[0;34m(\u001b[0m\u001b[0;34m[\u001b[0m\u001b[0mkey\u001b[0m\u001b[0;34m]\u001b[0m\u001b[0;34m,\u001b[0m \u001b[0mmethod\u001b[0m\u001b[0;34m=\u001b[0m\u001b[0mmethod\u001b[0m\u001b[0;34m,\u001b[0m \u001b[0mtolerance\u001b[0m\u001b[0;34m=\u001b[0m\u001b[0mtolerance\u001b[0m\u001b[0;34m)\u001b[0m\u001b[0;34m\u001b[0m\u001b[0;34m\u001b[0m\u001b[0m\n\u001b[1;32m   2901\u001b[0m         \u001b[0;32mif\u001b[0m \u001b[0mindexer\u001b[0m\u001b[0;34m.\u001b[0m\u001b[0mndim\u001b[0m \u001b[0;34m>\u001b[0m \u001b[0;36m1\u001b[0m \u001b[0;32mor\u001b[0m \u001b[0mindexer\u001b[0m\u001b[0;34m.\u001b[0m\u001b[0msize\u001b[0m \u001b[0;34m>\u001b[0m \u001b[0;36m1\u001b[0m\u001b[0;34m:\u001b[0m\u001b[0;34m\u001b[0m\u001b[0;34m\u001b[0m\u001b[0m\n",
      "\u001b[0;32mpandas/_libs/index.pyx\u001b[0m in \u001b[0;36mpandas._libs.index.IndexEngine.get_loc\u001b[0;34m()\u001b[0m\n",
      "\u001b[0;32mpandas/_libs/index.pyx\u001b[0m in \u001b[0;36mpandas._libs.index.IndexEngine.get_loc\u001b[0;34m()\u001b[0m\n",
      "\u001b[0;32mpandas/_libs/hashtable_class_helper.pxi\u001b[0m in \u001b[0;36mpandas._libs.hashtable.PyObjectHashTable.get_item\u001b[0;34m()\u001b[0m\n",
      "\u001b[0;32mpandas/_libs/hashtable_class_helper.pxi\u001b[0m in \u001b[0;36mpandas._libs.hashtable.PyObjectHashTable.get_item\u001b[0;34m()\u001b[0m\n",
      "\u001b[0;31mKeyError\u001b[0m: 'datatype'"
     ]
    }
   ],
   "metadata": {},
   "execution_count": 6
  },
  {
   "source": [
    "datatypes = ['shares', 'perShare', 'monetary', 'accountingStandard', 'percent', 'tradingSymbol', 'fiscalPeriod', 'decimal']"
   ],
   "cell_type": "code",
   "outputs": [],
   "metadata": {},
   "execution_count": 0
  },
  {
   "source": [
    "x = x[x['datatype'].isin(datatypes)]"
   ],
   "cell_type": "code",
   "outputs": [],
   "metadata": {},
   "execution_count": 0
  },
  {
   "source": [
    "\n",
    "# Data Source: https://www.sec.gov/dera/data/financial-statement-data-sets.html\n",
    "\n",
    "# Benjamin Grahmn rules: https://cabotwealth.com/daily/value-investing/benjamin-grahams-value-stock-criteria/ \n",
    "\n",
    "##NCAVPS = Current Assets - (Total Liabilities + Preferred Stock) ÷ Shares Outstanding ... less than 1.10 \n",
    "# PreferredStockValue\n",
    "# AssetsCurrent \n",
    "# Liabilities\n",
    "# EarningsPerShareBasic\n",
    "# CommonStockSharesOutstanding\n",
    "\n",
    "## Debt to Assets = Current Assets / Current Liabilities ... greater than 1.50\n",
    "# AssetsCurrent  \n",
    "# LiabilitiesCurrent\n",
    "\n",
    "\n",
    "## Price / Earnings per Share ratio ... less than 9.0\n",
    "\n",
    "# EarningsPerShareBasic\n",
    "# SharePrice\n",
    "\n",
    "# PRICE TO BOOK VALUE = (P/BV) ... less than 1.20. P/E ratios\n",
    "\n",
    "# BV = (Total Shareholder Equity−Preferred Stock) / Total Outstanding Shares\n",
    "​\n",
    "# SharePrice\n",
    "# StockholdersEquity \n",
    "# PreferredStockValue\n",
    "# CommonStockSharesOutstanding\n",
    "\n",
    "\n",
    "# Other rules to cover Benjamin Grahmn: https://www.netnethunter.com/16-benjamin-graham-rules/ \n",
    "\n",
    "# Adequate Past Earnings or Catalyst -- I want to invest in firms that have run into major, yet solvable, problems. Companies with a history of barely scraping by could stay valued below NCAV for a very long time. Obviously this doesn't matter if there's a catalyst on the horizon that will either move the stock price or increase profitability.\n",
    "\n",
    "# Past Price Above NCAV or Catalyst -- This is a good way to tell whether you're buying into a perennial net net or not. I want to see a company that has traded above its NCAV sometime in its recent history, sometime in the past 5 years. The same catalyst clause applies here, as well.\n",
    "\n",
    "## Warren Buffet Rules \n",
    "\n",
    "# ​Debt/Equity is less than 1 and ROE is greater than 10%\n",
    "\n",
    "# Debt/Equity= Total Liabilities / Total Shareholders’ Equity\n",
    "\n",
    "# Liabilities\n",
    "# StockholdersEquity \n",
    "\n",
    "# Return on Earnings = (Net Income / Stock Holders Equity)\n",
    "# NetIncomeLoss\n",
    "# StockholdersEquity \n",
    "\n",
    "#Gross Profit Margin = Gross Profit / Revenue ... is greater than 40% \n",
    "\n",
    "# GrossProfit\n",
    "# SalesRevenueNet\n",
    "​\n",
    "# Quarter over Quarter EPS ... is greater than 10\n",
    "# EarningsPerShareBasic\n",
    "\n",
    "# https://www.oldschoolvalue.com/tutorial/this-is-how-buffett-interprets-financial-statements/\n",
    "\n",
    "# Stock Buybacks are greater than last period\n",
    "\n",
    "# StockRepurchasedAndRetiredDuringPeriodShares\n"
   ],
   "cell_type": "code",
   "outputs": [],
   "metadata": {},
   "execution_count": 0
  },
  {
   "source": [
    "x.to_csv(dir_raw + \"/tags_test.csv\")"
   ],
   "cell_type": "code",
   "outputs": [],
   "metadata": {},
   "execution_count": 0
  },
  {
   "cell_type": "code",
   "execution_count": null,
   "metadata": {},
   "outputs": [],
   "source": []
  }
 ],
 "metadata": {
  "kernelspec": {
   "display_name": "Python 3.7.5 64-bit ('PythonGPU': conda)",
   "language": "python",
   "name": "python37564bitpythongpuconda708d8eacacb04a8d845e6e46eca82c98"
  },
  "language_info": {
   "codemirror_mode": {
    "name": "ipython",
    "version": 3
   },
   "file_extension": ".py",
   "mimetype": "text/x-python",
   "name": "python",
   "nbconvert_exporter": "python",
   "pygments_lexer": "ipython3",
   "version": "3.7.5-final"
  }
 },
 "nbformat": 4,
 "nbformat_minor": 4
}