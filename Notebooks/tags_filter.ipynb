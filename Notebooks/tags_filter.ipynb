{
 "cells": [
  {
   "cell_type": "markdown",
   "execution_count": null,
   "metadata": {},
   "outputs": [],
   "source": [
    "# Value Investing Indicators from SEC Filings\n",
    "\n",
    "### Data Source: https://www.sec.gov/dera/data/financial-statement-data-sets.html\n",
    "\n"
   ]
  },
  {
   "cell_type": "code",
   "execution_count": 1,
   "metadata": {},
   "outputs": [],
   "source": [
    "import pandas as pd\n",
    "import os\n",
    "import shutil\n",
    "import glob\n",
    "import sys\n",
    "import warnings\n",
    "import functools\n",
    "from functools import reduce\n",
    "import os \n",
    "\n",
    "pd.set_option('display.max_columns', 999)\n",
    "\n",
    "warnings.simplefilter(\"ignore\")\n",
    "\n",
    "os.chdir(\"..\")\n",
    "\n",
    "dir_root = os.getcwd()\n"
   ]
  },
  {
   "cell_type": "code",
   "execution_count": 2,
   "metadata": {},
   "outputs": [],
   "source": [
    "dir_raw = dir_root + u\"/sec_filings/Raw\"\n",
    "\n",
    "cik_lookup = pd.read_csv(dir_root + u\"/sec_filings/cik_ticker.csv\", usecols=['CIK', 'Ticker'], sep=\"|\")\n"
   ]
  },
  {
   "cell_type": "code",
   "execution_count": 3,
   "metadata": {},
   "outputs": [],
   "source": [
    "# num_tags = [\"PreferredStockValue\", \"AssetsCurrent\", \"Liabilities\", \"EarningsPerShareBasic\", \"CommonStockSharesOutstanding\", \"LiabilitiesCurrent\", \"EarningsPerShareBasic\", \"SharePrice\", \"StockholdersEquity\", \"PreferredStockValue\", \"CommonStockSharesOutstanding\", \"NetIncomeLoss\", \"GrossProfit\", \"SalesRevenueNet\",\"StockRepurchasedAndRetiredDuringPeriodShares\"]\n",
    "\n",
    "files_num = sorted(glob.glob(dir_raw + u'/*_num.txt'))\n",
    "\n",
    "files_sub = sorted(glob.glob(dir_raw + u'/*_sub.txt'))\n",
    "\n",
    "files_pre = sorted(glob.glob(dir_raw + u'/*_pre.txt'))\n",
    "\n",
    "sec_df = pd.DataFrame([])\n",
    "\n",
    "for num, sub, pre in zip(files_num, files_sub, files_pre):\n",
    "    df_num = pd.read_csv(num, sep='\\t', dtype=str, encoding = \"ISO-8859-1\")\n",
    "    df_sub = pd.read_csv(sub, sep='\\t', dtype=str, encoding = \"ISO-8859-1\")\n",
    "    df_pre = pd.read_csv(pre, sep='\\t', dtype=str, encoding = \"ISO-8859-1\")\n",
    "    # df_num = df_num[df_num['tag'].isin(num_tags)]\n",
    "    df_pre = df_pre.merge(df_num, on=['adsh', 'tag', 'version'], sort=True)\n",
    "    sec_merge = df_sub.merge(df_pre, on='adsh', how=\"inner\", sort=True)\n",
    "    sec_merge = sec_merge[sec_merge['form'] == \"10-Q\"]\n",
    "    sec_merge = sec_merge[sec_merge['stmt'] == \"BS\"]\n",
    "    sec_df = sec_df.append(sec_merge)\n"
   ]
  },
  {
   "cell_type": "code",
   "execution_count": 4,
   "metadata": {},
   "outputs": [],
   "source": [
    "sec_curated = sec_df.sort_values(by='ddate').drop_duplicates(subset=['adsh', 'tag', 'version'], keep='last')\n",
    "\n",
    "sec_curated = sec_curated[['adsh', 'ddate','version','filed', 'form', 'fp', 'fy', 'fye', 'instance', 'period', 'tag', 'uom', 'value']]\n",
    "\n",
    "sec_curated.to_csv(dir_root + r'/test.csv', index=False)"
   ]
  },
  {
   "cell_type": "code",
   "execution_count": 30,
   "metadata": {},
   "outputs": [
    {
     "data": {
      "text/html": "<div>\n<style scoped>\n    .dataframe tbody tr th:only-of-type {\n        vertical-align: middle;\n    }\n\n    .dataframe tbody tr th {\n        vertical-align: top;\n    }\n\n    .dataframe thead th {\n        text-align: right;\n    }\n</style>\n<table border=\"1\" class=\"dataframe\">\n  <thead>\n    <tr style=\"text-align: right;\">\n      <th></th>\n      <th>adsh</th>\n      <th>ddate</th>\n      <th>version</th>\n      <th>filed</th>\n      <th>form</th>\n      <th>fp</th>\n      <th>fy</th>\n      <th>fye</th>\n      <th>instance</th>\n      <th>period</th>\n      <th>tag</th>\n      <th>uom</th>\n      <th>value</th>\n    </tr>\n  </thead>\n  <tbody>\n  </tbody>\n</table>\n</div>",
      "text/plain": "Empty DataFrame\nColumns: [adsh, ddate, version, filed, form, fp, fy, fye, instance, period, tag, uom, value]\nIndex: []"
     },
     "execution_count": 30,
     "metadata": {},
     "output_type": "execute_result"
    }
   ],
   "source": [
    "sec_curated = sec_curated.drop_duplicates(subset=['instance'])\n",
    "sec_curated[sec_curated['tag'] == 'Share'].dropna()\n"
   ]
  },
  {
   "cell_type": "code",
   "execution_count": 6,
   "metadata": {},
   "outputs": [],
   "source": [
    "drop_cols = ['adsh', 'ddate','version','filed', 'form', 'fp', 'fy', 'fye', 'period', 'tag', 'uom']\n",
    "\n",
    "PreferredStockValue = sec_curated[sec_curated[\"tag\"] == \"PreferredStockValue\"].rename(columns={\"value\": \"PreferredStockValue\"}).drop(columns=drop_cols)\n",
    "\n",
    "AssetsCurrent = sec_curated[sec_curated[\"tag\"] == \"AssetsCurrent\"].rename(columns={'value': 'AssetsCurrent'}).drop(columns=drop_cols)\n",
    "\n",
    "Liabilities = sec_curated[sec_curated[\"tag\"] == \"Liabilities\"].rename(columns={'value': 'Liabilities'}).drop(columns=drop_cols)\n",
    "\n",
    "EarningsPerShareBasic = sec_curated[sec_curated[\"tag\"] == \"EarningsPerShareBasic\"].rename(columns={'value': 'EarningsPerShareBasic'}).drop(columns=drop_cols)\n",
    "\n",
    "CommonStockSharesOutstanding = sec_curated[sec_curated[\"tag\"] == \"CommonStockSharesOutstanding\"].rename(columns={'value': 'CommonStockSharesOutstanding'}).drop(columns=drop_cols)\n",
    "\n",
    "LiabilitiesCurrent = sec_curated[sec_curated[\"tag\"] == \"LiabilitiesCurrent\"].rename(columns={'value': 'LiabilitiesCurrent'}).drop(columns=drop_cols)\n",
    "\n",
    "EarningsPerShareBasic = sec_curated[sec_curated[\"tag\"] == \"EarningsPerShareBasic\"].rename(columns={'value': 'EarningsPerShareBasic'}).drop(columns=drop_cols)\n",
    "\n",
    "SharePrice = sec_curated[sec_curated[\"tag\"] == \"SharePrice\"].rename(columns={'value': 'SharePrice'}).drop(columns=drop_cols)\n",
    "\n",
    "StockholdersEquity = sec_curated[sec_curated[\"tag\"] == \"StockholdersEquity\"].rename(columns={'value': 'StockholdersEquity'}).drop(columns=drop_cols)\n",
    "\n",
    "PreferredStockValue = sec_curated[sec_curated[\"tag\"] == \"PreferredStockValue\"].rename(columns={'value': 'PreferredStockValue'}).drop(columns=drop_cols)\n",
    "\n",
    "CommonStockSharesOutstanding = sec_curated[sec_curated[\"tag\"] == \"CommonStockSharesOutstanding\"].rename(columns={'value': 'CommonStockSharesOutstanding'}).drop(columns=drop_cols)\n",
    "\n",
    "NetIncomeLoss = sec_curated[sec_curated[\"tag\"] == \"NetIncomeLoss\"].rename(columns={'value': 'NetIncomeLoss'}).drop(columns=drop_cols)\n",
    "\n",
    "GrossProfit = sec_curated[sec_curated[\"tag\"] == \"GrossProfit\"].rename(columns={'value': 'GrossProfit'}).drop(columns=drop_cols)\n",
    "\n",
    "SalesRevenueNet = sec_curated[sec_curated[\"tag\"] == \"SalesRevenueNet\"].rename(columns={'value': 'SalesRevenueNet'}).drop(columns=drop_cols)\n",
    "\n",
    "StockRepurchased = sec_curated[sec_curated[\"tag\"] == \"StockRepurchasedAndRetiredDuringPeriodShares\"].rename(columns={'value': 'StockRepurchased'}).drop(columns=drop_cols)\n"
   ]
  },
  {
   "cell_type": "code",
   "execution_count": 15,
   "metadata": {},
   "outputs": [],
   "source": [
    "cols = ['adsh', 'ddate','version','filed', 'form', 'fp', 'fy', 'fye', 'instance', 'period', 'tag', 'uom']\n",
    "\n",
    "sec_final = sec_curated[cols]\n",
    "\n",
    "dfs = [sec_curated, PreferredStockValue, AssetsCurrent, Liabilities, EarningsPerShareBasic, \n",
    "CommonStockSharesOutstanding, LiabilitiesCurrent, EarningsPerShareBasic, \n",
    "SharePrice, StockholdersEquity, PreferredStockValue, CommonStockSharesOutstanding, \n",
    "NetIncomeLoss, GrossProfit, SalesRevenueNet,StockRepurchased]\n",
    "\n",
    "df_final = reduce(lambda left,right: pd.merge(sec_curated,right,on='instance'), dfs)"
   ]
  },
  {
   "cell_type": "code",
   "execution_count": 28,
   "metadata": {},
   "outputs": [
    {
     "ename": "KeyError",
     "evalue": "'SharePriceBasic'",
     "output_type": "error",
     "traceback": [
      "\u001b[0;31m---------------------------------------------------------------------------\u001b[0m",
      "\u001b[0;31mKeyError\u001b[0m                                  Traceback (most recent call last)",
      "\u001b[0;32m~/.local/lib/python3.6/site-packages/pandas/core/indexes/base.py\u001b[0m in \u001b[0;36mget_loc\u001b[0;34m(self, key, method, tolerance)\u001b[0m\n\u001b[1;32m   2896\u001b[0m             \u001b[0;32mtry\u001b[0m\u001b[0;34m:\u001b[0m\u001b[0;34m\u001b[0m\u001b[0;34m\u001b[0m\u001b[0m\n\u001b[0;32m-> 2897\u001b[0;31m                 \u001b[0;32mreturn\u001b[0m \u001b[0mself\u001b[0m\u001b[0;34m.\u001b[0m\u001b[0m_engine\u001b[0m\u001b[0;34m.\u001b[0m\u001b[0mget_loc\u001b[0m\u001b[0;34m(\u001b[0m\u001b[0mkey\u001b[0m\u001b[0;34m)\u001b[0m\u001b[0;34m\u001b[0m\u001b[0;34m\u001b[0m\u001b[0m\n\u001b[0m\u001b[1;32m   2898\u001b[0m             \u001b[0;32mexcept\u001b[0m \u001b[0mKeyError\u001b[0m\u001b[0;34m:\u001b[0m\u001b[0;34m\u001b[0m\u001b[0;34m\u001b[0m\u001b[0m\n",
      "\u001b[0;32mpandas/_libs/index.pyx\u001b[0m in \u001b[0;36mpandas._libs.index.IndexEngine.get_loc\u001b[0;34m()\u001b[0m\n",
      "\u001b[0;32mpandas/_libs/index.pyx\u001b[0m in \u001b[0;36mpandas._libs.index.IndexEngine.get_loc\u001b[0;34m()\u001b[0m\n",
      "\u001b[0;32mpandas/_libs/index.pyx\u001b[0m in \u001b[0;36mpandas._libs.index.IndexEngine._get_loc_duplicates\u001b[0;34m()\u001b[0m\n",
      "\u001b[0;32mpandas/_libs/index.pyx\u001b[0m in \u001b[0;36mpandas._libs.index.IndexEngine._maybe_get_bool_indexer\u001b[0;34m()\u001b[0m\n",
      "\u001b[0;31mKeyError\u001b[0m: 'SharePriceBasic'",
      "\nDuring handling of the above exception, another exception occurred:\n",
      "\u001b[0;31mKeyError\u001b[0m                                  Traceback (most recent call last)",
      "\u001b[0;32m<ipython-input-28-5a52c887c1c9>\u001b[0m in \u001b[0;36m<module>\u001b[0;34m\u001b[0m\n\u001b[1;32m      2\u001b[0m \u001b[0mx\u001b[0m \u001b[0;34m=\u001b[0m \u001b[0mpd\u001b[0m\u001b[0;34m.\u001b[0m\u001b[0mconcat\u001b[0m\u001b[0;34m(\u001b[0m\u001b[0mdfs_final\u001b[0m\u001b[0;34m,\u001b[0m \u001b[0maxis\u001b[0m\u001b[0;34m=\u001b[0m\u001b[0;36m1\u001b[0m\u001b[0;34m)\u001b[0m\u001b[0;34m\u001b[0m\u001b[0;34m\u001b[0m\u001b[0m\n\u001b[1;32m      3\u001b[0m \u001b[0;34m\u001b[0m\u001b[0m\n\u001b[0;32m----> 4\u001b[0;31m \u001b[0mx\u001b[0m\u001b[0;34m[\u001b[0m\u001b[0;34m'SharePriceBasic'\u001b[0m\u001b[0;34m]\u001b[0m\u001b[0;34m.\u001b[0m\u001b[0mdropna\u001b[0m\u001b[0;34m(\u001b[0m\u001b[0;34m)\u001b[0m\u001b[0;34m\u001b[0m\u001b[0;34m\u001b[0m\u001b[0m\n\u001b[0m",
      "\u001b[0;32m~/.local/lib/python3.6/site-packages/pandas/core/frame.py\u001b[0m in \u001b[0;36m__getitem__\u001b[0;34m(self, key)\u001b[0m\n\u001b[1;32m   2993\u001b[0m             \u001b[0;32mif\u001b[0m \u001b[0mself\u001b[0m\u001b[0;34m.\u001b[0m\u001b[0mcolumns\u001b[0m\u001b[0;34m.\u001b[0m\u001b[0mnlevels\u001b[0m \u001b[0;34m>\u001b[0m \u001b[0;36m1\u001b[0m\u001b[0;34m:\u001b[0m\u001b[0;34m\u001b[0m\u001b[0;34m\u001b[0m\u001b[0m\n\u001b[1;32m   2994\u001b[0m                 \u001b[0;32mreturn\u001b[0m \u001b[0mself\u001b[0m\u001b[0;34m.\u001b[0m\u001b[0m_getitem_multilevel\u001b[0m\u001b[0;34m(\u001b[0m\u001b[0mkey\u001b[0m\u001b[0;34m)\u001b[0m\u001b[0;34m\u001b[0m\u001b[0;34m\u001b[0m\u001b[0m\n\u001b[0;32m-> 2995\u001b[0;31m             \u001b[0mindexer\u001b[0m \u001b[0;34m=\u001b[0m \u001b[0mself\u001b[0m\u001b[0;34m.\u001b[0m\u001b[0mcolumns\u001b[0m\u001b[0;34m.\u001b[0m\u001b[0mget_loc\u001b[0m\u001b[0;34m(\u001b[0m\u001b[0mkey\u001b[0m\u001b[0;34m)\u001b[0m\u001b[0;34m\u001b[0m\u001b[0;34m\u001b[0m\u001b[0m\n\u001b[0m\u001b[1;32m   2996\u001b[0m             \u001b[0;32mif\u001b[0m \u001b[0mis_integer\u001b[0m\u001b[0;34m(\u001b[0m\u001b[0mindexer\u001b[0m\u001b[0;34m)\u001b[0m\u001b[0;34m:\u001b[0m\u001b[0;34m\u001b[0m\u001b[0;34m\u001b[0m\u001b[0m\n\u001b[1;32m   2997\u001b[0m                 \u001b[0mindexer\u001b[0m \u001b[0;34m=\u001b[0m \u001b[0;34m[\u001b[0m\u001b[0mindexer\u001b[0m\u001b[0;34m]\u001b[0m\u001b[0;34m\u001b[0m\u001b[0;34m\u001b[0m\u001b[0m\n",
      "\u001b[0;32m~/.local/lib/python3.6/site-packages/pandas/core/indexes/base.py\u001b[0m in \u001b[0;36mget_loc\u001b[0;34m(self, key, method, tolerance)\u001b[0m\n\u001b[1;32m   2897\u001b[0m                 \u001b[0;32mreturn\u001b[0m \u001b[0mself\u001b[0m\u001b[0;34m.\u001b[0m\u001b[0m_engine\u001b[0m\u001b[0;34m.\u001b[0m\u001b[0mget_loc\u001b[0m\u001b[0;34m(\u001b[0m\u001b[0mkey\u001b[0m\u001b[0;34m)\u001b[0m\u001b[0;34m\u001b[0m\u001b[0;34m\u001b[0m\u001b[0m\n\u001b[1;32m   2898\u001b[0m             \u001b[0;32mexcept\u001b[0m \u001b[0mKeyError\u001b[0m\u001b[0;34m:\u001b[0m\u001b[0;34m\u001b[0m\u001b[0;34m\u001b[0m\u001b[0m\n\u001b[0;32m-> 2899\u001b[0;31m                 \u001b[0;32mreturn\u001b[0m \u001b[0mself\u001b[0m\u001b[0;34m.\u001b[0m\u001b[0m_engine\u001b[0m\u001b[0;34m.\u001b[0m\u001b[0mget_loc\u001b[0m\u001b[0;34m(\u001b[0m\u001b[0mself\u001b[0m\u001b[0;34m.\u001b[0m\u001b[0m_maybe_cast_indexer\u001b[0m\u001b[0;34m(\u001b[0m\u001b[0mkey\u001b[0m\u001b[0;34m)\u001b[0m\u001b[0;34m)\u001b[0m\u001b[0;34m\u001b[0m\u001b[0;34m\u001b[0m\u001b[0m\n\u001b[0m\u001b[1;32m   2900\u001b[0m         \u001b[0mindexer\u001b[0m \u001b[0;34m=\u001b[0m \u001b[0mself\u001b[0m\u001b[0;34m.\u001b[0m\u001b[0mget_indexer\u001b[0m\u001b[0;34m(\u001b[0m\u001b[0;34m[\u001b[0m\u001b[0mkey\u001b[0m\u001b[0;34m]\u001b[0m\u001b[0;34m,\u001b[0m \u001b[0mmethod\u001b[0m\u001b[0;34m=\u001b[0m\u001b[0mmethod\u001b[0m\u001b[0;34m,\u001b[0m \u001b[0mtolerance\u001b[0m\u001b[0;34m=\u001b[0m\u001b[0mtolerance\u001b[0m\u001b[0;34m)\u001b[0m\u001b[0;34m\u001b[0m\u001b[0;34m\u001b[0m\u001b[0m\n\u001b[1;32m   2901\u001b[0m         \u001b[0;32mif\u001b[0m \u001b[0mindexer\u001b[0m\u001b[0;34m.\u001b[0m\u001b[0mndim\u001b[0m \u001b[0;34m>\u001b[0m \u001b[0;36m1\u001b[0m \u001b[0;32mor\u001b[0m \u001b[0mindexer\u001b[0m\u001b[0;34m.\u001b[0m\u001b[0msize\u001b[0m \u001b[0;34m>\u001b[0m \u001b[0;36m1\u001b[0m\u001b[0;34m:\u001b[0m\u001b[0;34m\u001b[0m\u001b[0;34m\u001b[0m\u001b[0m\n",
      "\u001b[0;32mpandas/_libs/index.pyx\u001b[0m in \u001b[0;36mpandas._libs.index.IndexEngine.get_loc\u001b[0;34m()\u001b[0m\n",
      "\u001b[0;32mpandas/_libs/index.pyx\u001b[0m in \u001b[0;36mpandas._libs.index.IndexEngine.get_loc\u001b[0;34m()\u001b[0m\n",
      "\u001b[0;32mpandas/_libs/index.pyx\u001b[0m in \u001b[0;36mpandas._libs.index.IndexEngine._get_loc_duplicates\u001b[0;34m()\u001b[0m\n",
      "\u001b[0;32mpandas/_libs/index.pyx\u001b[0m in \u001b[0;36mpandas._libs.index.IndexEngine._maybe_get_bool_indexer\u001b[0;34m()\u001b[0m\n",
      "\u001b[0;31mKeyError\u001b[0m: 'SharePriceBasic'"
     ]
    }
   ],
   "source": [
    "dfs_final = [df.set_index('instance') for df in dfs]\n",
    "x = pd.concat(dfs_final, axis=1)\n",
    "\n",
    "x['SharePriceBasic'].dropna()\n"
   ]
  },
  {
   "cell_type": "code",
   "execution_count": null,
   "metadata": {},
   "outputs": [],
   "source": []
  },
  {
   "cell_type": "markdown",
   "execution_count": null,
   "metadata": {},
   "outputs": [],
   "source": [
    "# Benjamin Graham \n",
    "\n",
    "## Formulas:\n",
    "\n",
    "* NCAVPS = CurrentAssets - (Total Liabilities + Preferred Stock) ÷ Shares Outstanding\n",
    "    * Less than 1.10 \n",
    "\n",
    "* Debt to Assets = Current Assets / Current Liabilities\n",
    "    * Greater than 1.50\n",
    "\n",
    "* Price / Earnings per Share ratio \n",
    "    * Less than 9.0\n",
    "\n",
    "* PRICE TO BOOK VALUE = (P/BV) \n",
    "    * Where BV = (Total Shareholder Equity−Preferred Stock)/ Total Outstanding Shares\n",
    "    * Less than 1.20. P/E ratios\n",
    "\n",
    "## References:\n",
    "\n",
    "Benjamin Graham rules: https://cabotwealth.com/daily/value-investing/benjamin-grahams-value-stock-criteria/ \n",
    "\n",
    "Benjamin Graham rules Modified: https://www.netnethunter.com/16-benjamin-graham-rules/ \n",
    "\n"
   ]
  },
  {
   "cell_type": "code",
   "execution_count": null,
   "metadata": {},
   "outputs": [],
   "source": [
    "\n",
    "sec_df['NCAVPS'] = sec_df['AssetsCurrent'] - (sec_df['Liabilities'] + sec_df[\n",
    "'PreferredStockValue']) / sec_df['CommonStockSharesOutstanding']\n",
    "\n",
    "sec_df['DebtToAssets'] = sec_df['AssetsCurrent'] / sec_df['LiabilitiesCurrent']\n",
    "\n",
    "sec_df['PE'] = sec_df['SharePrice'] / sec_df['EarningsPerShareBasic'] \n",
    "\n",
    "sec_df['PBV'] = sec_df['SharePrice'] / ((sec_df['StockholdersEquity'] - sec_df['PreferredStockValue']) / sec_df['CommonStockSharesOutstanding'])\n"
   ]
  },
  {
   "cell_type": "markdown",
   "execution_count": null,
   "metadata": {},
   "outputs": [],
   "source": [
    "# Warren Buffet Rules \n",
    "\n",
    "## Formulas\n",
    "\n",
    "* Debt/Equity= Total Liabilities / Total Shareholders’ Equity \n",
    "    * Less than 1 and ROE is greater than 10%\n",
    "\n",
    "* Return on Earnings = (Net Income / Stock Holders Equity)\n",
    "    * Is Positive\n",
    "\n",
    "* Gross Profit Margin = Gross Profit / Revenue \n",
    "    * Greater than 40% \n",
    "​\n",
    "* Quarter over Quarter EPS \n",
    "    * Greater than 10\n",
    "\n",
    "* Stock Buybacks\n",
    "    * Greater than last period\n",
    "\n",
    "## References: \n",
    "https://www.oldschoolvalue.com/tutorial/this-is-how-buffett-interprets-financial-statements/"
   ]
  },
  {
   "cell_type": "code",
   "execution_count": null,
   "metadata": {},
   "outputs": [],
   "source": [
    "\n",
    "sec_df['DebtEquity'] = sec_df['Liabilities'] / sec_df['StockholdersEquity']\n",
    "\n",
    "sec_df['ReturnEarnings'] = sec_df['NetIncomeLoss'] / sec_df['StockholdersEquity']\n",
    "\n",
    "sec_df[\"GrossProfitMargin\"] = sec_df['GrossProfit'] / sec_df['SalesRevenueNet']\n",
    "\n",
    "sec_df[\"EPS\"] = sec_df[\"EarningsPerShareBasic\"]\n",
    "\n",
    "sec_df[\"StockBuybacks\"] = sec_df[\"StockRepurchasedAndRetiredDuringPeriodShares\"]"
   ]
  }
 ],
 "metadata": {
  "kernelspec": {
   "display_name": "Python 3.6.9 64-bit ('Azimuth': conda)",
   "language": "python",
   "name": "python36964bitazimuthconda01a010e6991749689b1430cc07fcd8a1"
  },
  "language_info": {
   "codemirror_mode": {
    "name": "ipython",
    "version": 3
   },
   "file_extension": ".py",
   "mimetype": "text/x-python",
   "name": "python",
   "nbconvert_exporter": "python",
   "pygments_lexer": "ipython3",
   "version": "3.6.9-final"
  }
 },
 "nbformat": 4,
 "nbformat_minor": 4
}