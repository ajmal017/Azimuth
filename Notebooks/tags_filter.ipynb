{
 "cells": [
  {
   "cell_type": "markdown",
   "execution_count": 4,
   "metadata": {},
   "outputs": [],
   "source": [
    "# Value Investing Indicators from SEC Filings\n",
    "\n",
    "### Data Source: https://www.sec.gov/dera/data/financial-statement-data-sets.html\n",
    "\n"
   ]
  },
  {
   "cell_type": "code",
   "execution_count": 1,
   "metadata": {},
   "outputs": [],
   "source": [
    "import pandas as pd\n",
    "import os\n",
    "import shutil\n",
    "import glob\n",
    "import sys\n",
    "import warnings\n",
    "warnings.simplefilter(\"ignore\")\n",
    "\n",
    "os.chdir(\"..\")\n",
    "\n",
    "dir_root = os.getcwd()\n"
   ]
  },
  {
   "cell_type": "code",
   "execution_count": 2,
   "metadata": {},
   "outputs": [],
   "source": [
    "dir_raw = dir_root + u\"/sec_filings/Raw\"\n",
    "\n",
    "cik_lookup = pd.read_csv(dir_root + u\"/sec_filings/cik_ticker.csv\", usecols=['CIK', 'Ticker'], sep=\"|\")\n"
   ]
  },
  {
   "cell_type": "code",
   "execution_count": 3,
   "metadata": {},
   "outputs": [],
   "source": [
    "num_tags = [\"PreferredStockValue\", \"AssetsCurrent\", \"Liabilities\", \"EarningsPerShareBasic\", \"CommonStockSharesOutstanding\", \"LiabilitiesCurrent\", \"EarningsPerShareBasic\", \"SharePrice\", \"StockholdersEquity\", \"PreferredStockValue\", \"CommonStockSharesOutstanding\", \"NetIncomeLoss\", \"GrossProfit\", \"SalesRevenueNet\",\"StockRepurchasedAndRetiredDuringPeriodShares\"]\n",
    "\n",
    "num_cols = ['adsh', 'tag', 'uom', 'value']\n",
    "\n",
    "sub_cols = ['adsh', 'ein', 'cik', 'sic', 'name', 'period', 'fp']\n",
    "\n",
    "files_num = sorted(glob.glob(dir_raw + u'/*_num.txt'))\n",
    "\n",
    "files_sub = sorted(glob.glob(dir_raw + u'/*_sub.txt'))\n",
    "\n",
    "sec_df = pd.DataFrame([])\n",
    "\n",
    "for num, sub in zip(files_num, files_sub):\n",
    "    df_num = pd.read_csv(num, sep='\\t', dtype=str, encoding = \"ISO-8859-1\")\n",
    "    df_sub = pd.read_csv(sub, sep='\\t', dtype=str, encoding = \"ISO-8859-1\")\n",
    "    df_sub = df_sub[sub_cols]\n",
    "    df_num = df_num[num_cols]\n",
    "    df_num = df_num[df_num['tag'].isin(num_tags)]\n",
    "    sec_merge = df_sub.merge(df_num, on='adsh', sort=True)\n",
    "    sec_df = sec_df.append(sec_merge)\n"
   ]
  },
  {
   "cell_type": "code",
   "execution_count": 20,
   "metadata": {},
   "outputs": [],
   "source": [
    "cik_lookup.columns = cik_lookup.columns.str.lower()\n",
    "\n",
    "sec_df['ticker'] = sec_df['cik'].map(cik_lookup.set_index('cik')['ticker'].to_dict())\n",
    "\n",
    "sec_df['cik'] = sec_df['cik'].astype(str)\n",
    "\n",
    "cik_lookup['cik'] = cik_lookup['cik'].astype(str)\n",
    "\n",
    "sec_df = sec_df.dropna(subset=['ticker'])"
   ]
  },
  {
   "cell_type": "code",
   "execution_count": 41,
   "metadata": {},
   "outputs": [
    {
     "data": {
      "text/html": "<div>\n<style scoped>\n    .dataframe tbody tr th:only-of-type {\n        vertical-align: middle;\n    }\n\n    .dataframe tbody tr th {\n        vertical-align: top;\n    }\n\n    .dataframe thead th {\n        text-align: right;\n    }\n</style>\n<table border=\"1\" class=\"dataframe\">\n  <thead>\n    <tr style=\"text-align: right;\">\n      <th></th>\n      <th>level_0</th>\n      <th>ticker</th>\n      <th>0</th>\n    </tr>\n  </thead>\n  <tbody>\n    <tr>\n      <th>0</th>\n      <td>adsh</td>\n      <td>FRX</td>\n      <td>0000038074-09-000029</td>\n    </tr>\n    <tr>\n      <th>1</th>\n      <td>adsh</td>\n      <td>FRX</td>\n      <td>0000038074-09-000029</td>\n    </tr>\n    <tr>\n      <th>2</th>\n      <td>adsh</td>\n      <td>FRX</td>\n      <td>0000038074-09-000029</td>\n    </tr>\n    <tr>\n      <th>3</th>\n      <td>adsh</td>\n      <td>FRX</td>\n      <td>0000038074-09-000029</td>\n    </tr>\n    <tr>\n      <th>4</th>\n      <td>adsh</td>\n      <td>FRX</td>\n      <td>0000038074-09-000029</td>\n    </tr>\n    <tr>\n      <th>...</th>\n      <td>...</td>\n      <td>...</td>\n      <td>...</td>\n    </tr>\n    <tr>\n      <th>12465995</th>\n      <td>value</td>\n      <td>NIHK</td>\n      <td>0.0000</td>\n    </tr>\n    <tr>\n      <th>12465996</th>\n      <td>value</td>\n      <td>NIHK</td>\n      <td>139153206.0000</td>\n    </tr>\n    <tr>\n      <th>12465997</th>\n      <td>value</td>\n      <td>NIHK</td>\n      <td>0.0000</td>\n    </tr>\n    <tr>\n      <th>12465998</th>\n      <td>value</td>\n      <td>NIHK</td>\n      <td>0.0000</td>\n    </tr>\n    <tr>\n      <th>12465999</th>\n      <td>value</td>\n      <td>NIHK</td>\n      <td>0.0000</td>\n    </tr>\n  </tbody>\n</table>\n<p>12466000 rows × 3 columns</p>\n</div>",
      "text/plain": "         level_0 ticker                     0\n0           adsh    FRX  0000038074-09-000029\n1           adsh    FRX  0000038074-09-000029\n2           adsh    FRX  0000038074-09-000029\n3           adsh    FRX  0000038074-09-000029\n4           adsh    FRX  0000038074-09-000029\n...          ...    ...                   ...\n12465995   value   NIHK                0.0000\n12465996   value   NIHK        139153206.0000\n12465997   value   NIHK                0.0000\n12465998   value   NIHK                0.0000\n12465999   value   NIHK                0.0000\n\n[12466000 rows x 3 columns]"
     },
     "execution_count": 41,
     "metadata": {},
     "output_type": "execute_result"
    }
   ],
   "source": [
    "sec_df = sec_df.drop_duplicates(subset=['adsh', 'tag'])\n",
    "\n",
    "sec_df.set_index(['ticker']).unstack().reset_index()\n",
    "\n",
    "sec_df"
   ]
  },
  {
   "cell_type": "markdown",
   "execution_count": 12,
   "metadata": {},
   "outputs": [
    {
     "ename": "SyntaxError",
     "evalue": "invalid character in identifier (<ipython-input-12-542d036fbca1>, line 5)",
     "output_type": "error",
     "traceback": [
      "\u001b[0;36m  File \u001b[0;32m\"<ipython-input-12-542d036fbca1>\"\u001b[0;36m, line \u001b[0;32m5\u001b[0m\n\u001b[0;31m    * NCAVPS=CurrentAssets-(TotalLiabilities+PreferredStock)÷SharesOutstanding\u001b[0m\n\u001b[0m                                                                             ^\u001b[0m\n\u001b[0;31mSyntaxError\u001b[0m\u001b[0;31m:\u001b[0m invalid character in identifier\n"
     ]
    }
   ],
   "source": [
    "# Benjamin Graham \n",
    "\n",
    "## Formulas:\n",
    "\n",
    "* NCAVPS = CurrentAssets - (Total Liabilities + Preferred Stock) ÷ Shares Outstanding\n",
    "    * Less than 1.10 \n",
    "\n",
    "* Debt to Assets = Current Assets / Current Liabilities\n",
    "    * Greater than 1.50\n",
    "\n",
    "* Price / Earnings per Share ratio \n",
    "    * Less than 9.0\n",
    "\n",
    "* PRICE TO BOOK VALUE = (P/BV) \n",
    "    * Where BV = (Total Shareholder Equity−Preferred Stock)/ Total Outstanding Shares\n",
    "    * Less than 1.20. P/E ratios\n",
    "\n",
    "## References:\n",
    "\n",
    "Benjamin Graham rules: https://cabotwealth.com/daily/value-investing/benjamin-grahams-value-stock-criteria/ \n",
    "\n",
    "Benjamin Graham rules Modified: https://www.netnethunter.com/16-benjamin-graham-rules/ \n",
    "\n"
   ]
  },
  {
   "cell_type": "code",
   "execution_count": 4,
   "metadata": {},
   "outputs": [
    {
     "ename": "SyntaxError",
     "evalue": "invalid syntax (<ipython-input-4-168e8a96d945>, line 8)",
     "output_type": "error",
     "traceback": [
      "\u001b[0;36m  File \u001b[0;32m\"<ipython-input-4-168e8a96d945>\"\u001b[0;36m, line \u001b[0;32m8\u001b[0m\n\u001b[0;31m    sec_df['PBV'] = sec_df['SharePrice'] / ((sec_df['StockholdersEquity'] -sec_ df['PreferredStockValue']) / sec_df['CommonStockSharesOutstanding'])\u001b[0m\n\u001b[0m                                                                                 ^\u001b[0m\n\u001b[0;31mSyntaxError\u001b[0m\u001b[0;31m:\u001b[0m invalid syntax\n"
     ]
    }
   ],
   "source": [
    "\n",
    "sec_df['NCAVPS'] = sec_df['AssetsCurrent'] - (sec_df['Liabilities'] + sec_df[\n",
    "'PreferredStockValue']) / sec_df['CommonStockSharesOutstanding']\n",
    "\n",
    "sec_df['DebtToAssets'] = sec_df['AssetsCurrent'] / sec_df['LiabilitiesCurrent']\n",
    "\n",
    "sec_df['PE'] = sec_df['SharePrice'] / sec_df['EarningsPerShareBasic'] \n",
    "\n",
    "sec_df['PBV'] = sec_df['SharePrice'] / ((sec_df['StockholdersEquity'] - sec_df['PreferredStockValue']) / sec_df['CommonStockSharesOutstanding'])\n"
   ]
  },
  {
   "cell_type": "markdown",
   "execution_count": null,
   "metadata": {},
   "outputs": [],
   "source": [
    "# Warren Buffet Rules \n",
    "\n",
    "## Formulas\n",
    "\n",
    "* Debt/Equity= Total Liabilities / Total Shareholders’ Equity \n",
    "    * Less than 1 and ROE is greater than 10%\n",
    "\n",
    "* Return on Earnings = (Net Income / Stock Holders Equity)\n",
    "    * Is Positive\n",
    "\n",
    "* Gross Profit Margin = Gross Profit / Revenue \n",
    "    * Greater than 40% \n",
    "​\n",
    "* Quarter over Quarter EPS \n",
    "    * Greater than 10\n",
    "\n",
    "* Stock Buybacks\n",
    "    * Greater than last period\n",
    "\n",
    "## References: \n",
    "https://www.oldschoolvalue.com/tutorial/this-is-how-buffett-interprets-financial-statements/"
   ]
  },
  {
   "cell_type": "code",
   "execution_count": null,
   "metadata": {},
   "outputs": [],
   "source": [
    "\n",
    "sec_df['DebtEquity'] = sec_df['Liabilities'] / sec_df['StockholdersEquity']\n",
    "\n",
    "sec_df['ReturnEarnings'] = sec_df['NetIncomeLoss'] / sec_df['StockholdersEquity']\n",
    "\n",
    "sec_df[\"GrossProfitMargin\"] = sec_df['GrossProfit'] / sec_df['SalesRevenueNet']\n",
    "\n",
    "sec_df[\"EPS\"] = sec_df[\"EarningsPerShareBasic\"]\n",
    "\n",
    "sec_df[\"StockBuybacks\"] = sec_df[\"StockRepurchasedAndRetiredDuringPeriodShares\"]"
   ]
  }
 ],
 "metadata": {
  "kernelspec": {
   "display_name": "Python 3.6.9 64-bit ('Azimuth': conda)",
   "language": "python",
   "name": "python36964bitazimuthconda01a010e6991749689b1430cc07fcd8a1"
  },
  "language_info": {
   "codemirror_mode": {
    "name": "ipython",
    "version": 3
   },
   "file_extension": ".py",
   "mimetype": "text/x-python",
   "name": "python",
   "nbconvert_exporter": "python",
   "pygments_lexer": "ipython3",
   "version": "3.6.9-final"
  }
 },
 "nbformat": 4,
 "nbformat_minor": 4
}