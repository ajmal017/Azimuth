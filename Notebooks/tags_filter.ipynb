{
 "cells": [
  {
   "cell_type": "code",
   "execution_count": 3,
   "metadata": {},
   "outputs": [],
   "source": [
    "import pandas as pd\n",
    "import os\n",
    "import shutil"
   ]
  },
  {
   "cell_type": "code",
   "execution_count": 4,
   "metadata": {},
   "outputs": [
    {
     "name": "stdout",
     "output_type": "stream",
     "text": "/home/wc/Azimuth/Trader/sec_filings/Raw\n"
    }
   ],
   "source": [
    "os.chdir(\"..\")\n",
    "\n",
    "dir_root = os.getcwd()\n",
    "\n",
    "dir_raw = dir_root + u\"/sec_filings/Raw\"\n",
    "\n",
    "print(dir_raw)\n",
    "\n",
    "# Azimuth/Trader/sec_filings/Raw/2019q4_num.txt"
   ]
  },
  {
   "cell_type": "code",
   "execution_count": 5,
   "metadata": {},
   "outputs": [],
   "source": [
    "x = pd.read_csv(dir_raw + u'/2019q4_tag.txt', sep='\\t')"
   ]
  },
  {
   "cell_type": "code",
   "execution_count": 6,
   "metadata": {},
   "outputs": [
    {
     "name": "stdout",
     "output_type": "stream",
     "text": "tag      version  custom  abstract  \\\n0                              InvestmentAxis  invest/2013       0         1   \n1                            InvestmentDomain  invest/2013       0         1   \n2            InvestmentContractSettlementDate  invest/2013       0         0   \n3    InvestmentContractSettlementDateRangeEnd  invest/2013       0         0   \n4  InvestmentContractSettlementDateRangeStart  invest/2013       0         0   \n\n  datatype iord crdr                                           tlabel  \\\n0     axis  NaN  NaN                                Investment [Axis]   \n1   member  NaN  NaN                              Investment [Domain]   \n2     date    D  NaN              Investment Contract Settlement Date   \n3     date    D  NaN    Investment Contract Settlement Date Range End   \n4     date    D  NaN  Investment Contract Settlement Date Range Start   \n\n                                                 doc  \n0  A categorization of investments (securities, d...  \n1  A categorization of investments (securities, d...  \n2     The settlement date of an investment contract.  \n3  When an investment contract or contracts have ...  \n4  When an investment contract or contracts have ...  \n"
    }
   ],
   "source": [
    "print(x.head())"
   ]
  },
  {
   "cell_type": "code",
   "execution_count": 7,
   "metadata": {},
   "outputs": [
    {
     "name": "stdout",
     "output_type": "stream",
     "text": "{nan, 'employerId', 'monetary', 'sicNumber', 'decimal', 'filerCategory', 'gMonthDay', 'mass', 'gYearMonth', 'duration', 'tradingSymbol', 'accountingStandard', 'pure', 'percent', 'stateOrProvince', 'axis', 'textBlock', 'extensibleList', 'normalizedString', 'edgarStateCountry', 'yesNo', 'countryCode', 'integer', 'fileNumber', 'submissionType', 'centralIndexKey', 'string', 'boolean', 'financialDesignation', 'fiscalPeriod', 'edgarExchangeCode', 'area', 'shares', 'date', 'member', 'perUnit', 'authorizedUnlimited', 'perShare', 'nineDigit', 'securityTitle', 'gYear'}\n"
    }
   ],
   "source": [
    "tags = set(x['datatype'].values)\n",
    "print(tags)\n",
    "\n",
    "# Trading Symbol"
   ]
  },
  {
   "cell_type": "code",
   "execution_count": 8,
   "metadata": {},
   "outputs": [],
   "source": [
    "datatypes = ['shares', 'perShare', 'monetary', 'accountingStandard', 'percent', 'tradingSymbol', 'fiscalPeriod', 'decimal']"
   ]
  },
  {
   "cell_type": "code",
   "execution_count": 9,
   "metadata": {},
   "outputs": [],
   "source": [
    "x = x[x['datatype'].isin(datatypes)]"
   ]
  },
  {
   "cell_type": "code",
   "execution_count": 13,
   "metadata": {},
   "outputs": [
    {
     "ename": "SyntaxError",
     "evalue": "invalid character in identifier (<ipython-input-13-e9787504dda3>, line 25)",
     "output_type": "error",
     "traceback": [
      "\u001b[0;36m  File \u001b[0;32m\"<ipython-input-13-e9787504dda3>\"\u001b[0;36m, line \u001b[0;32m25\u001b[0m\n\u001b[0;31m    ​\u001b[0m\n\u001b[0m    ^\u001b[0m\n\u001b[0;31mSyntaxError\u001b[0m\u001b[0;31m:\u001b[0m invalid character in identifier\n"
     ]
    }
   ],
   "source": [
    "\n",
    "# Data Source: https://www.sec.gov/dera/data/financial-statement-data-sets.html\n",
    "\n",
    "# Benjamin Grahmn rules: https://cabotwealth.com/daily/value-investing/benjamin-grahams-value-stock-criteria/ \n",
    "\n",
    "##NCAVPS = Current Assets - (Total Liabilities + Preferred Stock) ÷ Shares Outstanding ... less than 1.10 \n",
    "# PreferredStockValue\n",
    "# AssetsCurrent \n",
    "# Liabilities\n",
    "# Earnings Per Share, Basic\n",
    "# CommonStockSharesOutstanding\n",
    "\n",
    "## Debt to Assets = Current Assets / Current Liabilities ... greater than 1.50\n",
    "# AssetsCurrent  \n",
    "# LiabilitiesCurrent\n",
    "\n",
    "\n",
    "## Price / Earnings per Share ratio ... less than 9.0\n",
    "\n",
    "# EarningsPerShareBasic\n",
    "# SharePrice\n",
    "\n",
    "# PRICE TO BOOK VALUE = (P/BV) ... less than 1.20. P/E ratios\n",
    "\n",
    "# BV = (Total Shareholder Equity−Preferred Stock) / Total Outstanding Shares\n",
    "​\n",
    "# SharePrice\n",
    "# StockholdersEquity \n",
    "# PreferredStockValue\n",
    "# CommonStockSharesOutstanding\n",
    "\n",
    "\n",
    "# Other rules to cover Benjamin Grahmn: https://www.netnethunter.com/16-benjamin-graham-rules/ \n",
    "\n",
    "# Adequate Past Earnings or Catalyst -- I want to invest in firms that have run into major, yet solvable, problems. Companies with a history of barely scraping by could stay valued below NCAV for a very long time. Obviously this doesn't matter if there's a catalyst on the horizon that will either move the stock price or increase profitability.\n",
    "\n",
    "# Past Price Above NCAV or Catalyst -- This is a good way to tell whether you're buying into a perennial net net or not. I want to see a company that has traded above its NCAV sometime in its recent history, sometime in the past 5 years. The same catalyst clause applies here, as well.\n",
    "\n",
    "## Warren Buffet Rules \n",
    "\n",
    "# ​Debt/Equity is less than 1 and ROE is greater than 10%\n",
    "\n",
    "# Debt/Equity= Total Liabilities / Total Shareholders’ Equity\n",
    "\n",
    "# Liabilities\n",
    "# StockholdersEquity \n",
    "\n",
    "# Return on Earnings = (Net Income / Stock Holders Equity)\n",
    "# NetIncomeLoss\n",
    "# StockholdersEquity \n",
    "\n",
    "#Gross Profit Margin = Gross Profit / Revenue ... is greater than 40% \n",
    "\n",
    "# GrossProfit\n",
    "# SalesRevenueNet\n",
    "​\n",
    "# Quarter over Quarter EPS ... is greater than 10\n",
    "# EarningsPerShareBasic\n",
    "\n",
    "# Stock Buybacks are greater than last period\n",
    "\n",
    "# StockRepurchasedAndRetiredDuringPeriodShares\n",
    "\n",
    "\n",
    "\n",
    "\n",
    "\n",
    "\n",
    "\n",
    "\n"
   ]
  },
  {
   "cell_type": "code",
   "execution_count": 12,
   "metadata": {},
   "outputs": [],
   "source": [
    "x.to_csv(dir_raw + \"/tags_test.csv\")"
   ]
  },
  {
   "cell_type": "code",
   "execution_count": null,
   "metadata": {},
   "outputs": [],
   "source": []
  }
 ],
 "metadata": {
  "kernelspec": {
   "display_name": "Python 3.7.5 64-bit ('PythonGPU': conda)",
   "language": "python",
   "name": "python37564bitpythongpuconda708d8eacacb04a8d845e6e46eca82c98"
  },
  "language_info": {
   "codemirror_mode": {
    "name": "ipython",
    "version": 3
   },
   "file_extension": ".py",
   "mimetype": "text/x-python",
   "name": "python",
   "nbconvert_exporter": "python",
   "pygments_lexer": "ipython3",
   "version": "3.7.5-final"
  }
 },
 "nbformat": 4,
 "nbformat_minor": 4
}