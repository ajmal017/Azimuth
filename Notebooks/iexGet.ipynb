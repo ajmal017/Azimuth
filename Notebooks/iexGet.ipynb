{
 "cells": [
  {
   "cell_type": "code",
   "execution_count": 1,
   "metadata": {},
   "outputs": [],
   "source": [
    "import datetime\n",
    "import pandas\n",
    "import urllib\n",
    "import json\n",
    "import time\n",
    "import sys\n",
    "import datetime\n",
    "import time\n",
    "import requests\n",
    "from yahoo_earnings_calendar import YahooEarningsCalendar\n",
    "import numpy as np\n",
    "import os"
   ]
  },
  {
   "cell_type": "code",
   "execution_count": 2,
   "metadata": {},
   "outputs": [
    {
     "name": "stdout",
     "output_type": "stream",
     "text": "/home/wc/Azimuth/Trader/Notebooks\n"
    }
   ],
   "source": [
    "today = datetime.date.today()\n",
    "\n",
    "path = os.getcwd()\n",
    "\n",
    "today = datetime.date.today()\n",
    "\n",
    "path = os.getcwd()\n",
    "\n",
    "print(path)\n",
    "\n",
    "#get data from bloomberg\n",
    "def get_data(url):\n",
    "\treq = urllib.request.Request(url)\n",
    "\tresponse = urllib.request.urlopen(req)\n",
    "\tfile = response.read()\n",
    "\tresult = json.loads(file)\n",
    "\tresult = pandas.DataFrame([result])\n",
    "\treturn result\n",
    "\n",
    "sandbox = \"https://sandbox.iexapis.com\"\n",
    "\n",
    "sb_api_key = \"Tpk_db75edaa9a9b4b2891dff83893eff6d6\"\n",
    "\n",
    "production = \"https://cloud.iexapis.com/\"\n",
    "\n",
    "prod_api_key = \"pk_1de77928d18b46e1b733bfa018321964\"\n",
    "\n",
    "base = datetime.datetime.today()\n",
    "\n",
    "date_calendar = [base + datetime.timedelta(days=x) for x in range(7)]\n",
    "\n",
    "date_from = date_calendar[0].date()\n",
    "\n",
    "date_to = date_calendar[-1].date()\n",
    "\n",
    "yec = YahooEarningsCalendar()\n",
    "\n",
    "earnings = yec.earnings_between(date_from, date_to)\n",
    "\n",
    "# earnings = json.loads(earnings)\n",
    "\n",
    "eps_df = pandas.DataFrame.from_records(earnings)"
   ]
  },
  {
   "cell_type": "code",
   "execution_count": 3,
   "metadata": {},
   "outputs": [],
   "source": [
    "ticker_ary = []\n",
    "epsEstimate = []\n",
    "marketCap = []\n",
    "peRatio = []\n",
    "price = []\n",
    "debt = []\n",
    "priceToSales = []\n",
    "priceToBook = []\n",
    "sharesOutstanding = []\n",
    "day5ChangePercent = []"
   ]
  },
  {
   "cell_type": "code",
   "execution_count": 4,
   "metadata": {},
   "outputs": [],
   "source": [
    "eps_df = eps_df[['companyshortname', 'ticker', 'epsestimate', 'startdatetime', 'startdatetimetype']]"
   ]
  },
  {
   "cell_type": "code",
   "execution_count": 5,
   "metadata": {},
   "outputs": [
    {
     "name": "stdout",
     "output_type": "stream",
     "text": "800\n"
    }
   ],
   "source": [
    "print(len(eps_df))"
   ]
  },
  {
   "cell_type": "code",
   "execution_count": 8,
   "metadata": {},
   "outputs": [
    {
     "data": {
      "text/html": "<div>\n<style scoped>\n    .dataframe tbody tr th:only-of-type {\n        vertical-align: middle;\n    }\n\n    .dataframe tbody tr th {\n        vertical-align: top;\n    }\n\n    .dataframe thead th {\n        text-align: right;\n    }\n</style>\n<table border=\"1\" class=\"dataframe\">\n  <thead>\n    <tr style=\"text-align: right;\">\n      <th></th>\n      <th>companyshortname</th>\n      <th>ticker</th>\n      <th>epsestimate</th>\n      <th>startdatetime</th>\n      <th>startdatetimetype</th>\n    </tr>\n  </thead>\n  <tbody>\n    <tr>\n      <th>0</th>\n      <td>Berkshire Hathaway Inc</td>\n      <td>BRKB</td>\n      <td>NaN</td>\n      <td>2020-02-22T18:30:00.000Z</td>\n      <td>BMO</td>\n    </tr>\n    <tr>\n      <th>1</th>\n      <td>180 Degree Capital Corp</td>\n      <td>TURN</td>\n      <td>NaN</td>\n      <td>2020-02-25T02:00:00.000Z</td>\n      <td>AMC</td>\n    </tr>\n    <tr>\n      <th>2</th>\n      <td>Rent-A-Center Inc</td>\n      <td>RCII</td>\n      <td>0.57</td>\n      <td>2020-02-25T02:00:00.000Z</td>\n      <td>AMC</td>\n    </tr>\n    <tr>\n      <th>3</th>\n      <td>Altisource Portfolio Solutions SA</td>\n      <td>ASPS</td>\n      <td>0.47</td>\n      <td>2020-02-24T15:59:00.000Z</td>\n      <td>TNS</td>\n    </tr>\n    <tr>\n      <th>4</th>\n      <td>Armstrong World Industries Inc</td>\n      <td>AWI</td>\n      <td>0.86</td>\n      <td>2020-02-24T18:30:00.000Z</td>\n      <td>BMO</td>\n    </tr>\n    <tr>\n      <th>5</th>\n      <td>Argo Group International Holdings Ltd</td>\n      <td>ARGO</td>\n      <td>-1.63</td>\n      <td>2020-02-25T02:00:00.000Z</td>\n      <td>AMC</td>\n    </tr>\n    <tr>\n      <th>6</th>\n      <td>American National Insurance Co</td>\n      <td>ANAT</td>\n      <td>NaN</td>\n      <td>2020-02-24T15:59:00.000Z</td>\n      <td>TNS</td>\n    </tr>\n    <tr>\n      <th>7</th>\n      <td>Arlo Technologies Inc</td>\n      <td>ARLO</td>\n      <td>-0.31</td>\n      <td>2020-02-24T15:59:00.000Z</td>\n      <td>TNS</td>\n    </tr>\n    <tr>\n      <th>8</th>\n      <td>Preferred Apartment Communities Inc</td>\n      <td>APTS</td>\n      <td>-0.69</td>\n      <td>2020-02-25T02:00:00.000Z</td>\n      <td>AMC</td>\n    </tr>\n    <tr>\n      <th>9</th>\n      <td>Adams Diversified Equity Fund Inc</td>\n      <td>ADX</td>\n      <td>NaN</td>\n      <td>2020-02-25T02:00:00.000Z</td>\n      <td>AMC</td>\n    </tr>\n    <tr>\n      <th>10</th>\n      <td>Apergy Corp</td>\n      <td>APY</td>\n      <td>0.14</td>\n      <td>2020-02-25T02:00:00.000Z</td>\n      <td>AMC</td>\n    </tr>\n    <tr>\n      <th>11</th>\n      <td>Amarin Corporation PLC</td>\n      <td>AMRN</td>\n      <td>-0.02</td>\n      <td>2020-02-24T13:30:00.000Z</td>\n      <td>BMO</td>\n    </tr>\n    <tr>\n      <th>12</th>\n      <td>Asta Funding Inc</td>\n      <td>ASFI</td>\n      <td>NaN</td>\n      <td>2020-02-25T02:00:00.000Z</td>\n      <td>AMC</td>\n    </tr>\n    <tr>\n      <th>13</th>\n      <td>American States Water Co</td>\n      <td>AWR</td>\n      <td>0.38</td>\n      <td>2020-02-25T02:00:00.000Z</td>\n      <td>AMC</td>\n    </tr>\n    <tr>\n      <th>14</th>\n      <td>Crispr Therapeutics AG</td>\n      <td>CRSP</td>\n      <td>-0.63</td>\n      <td>2020-02-24T18:30:00.000Z</td>\n      <td>BMO</td>\n    </tr>\n    <tr>\n      <th>15</th>\n      <td>Apple Hospitality REIT Inc</td>\n      <td>APLE</td>\n      <td>0.11</td>\n      <td>2020-02-25T02:00:00.000Z</td>\n      <td>AMC</td>\n    </tr>\n    <tr>\n      <th>16</th>\n      <td>TravelCenters of America LLC</td>\n      <td>TA</td>\n      <td>-1.01</td>\n      <td>2020-02-24T18:30:00.000Z</td>\n      <td>BMO</td>\n    </tr>\n    <tr>\n      <th>17</th>\n      <td>Kratos Defense and Security Solutions Inc</td>\n      <td>KTOS</td>\n      <td>0.10</td>\n      <td>2020-02-25T02:00:00.000Z</td>\n      <td>AMC</td>\n    </tr>\n    <tr>\n      <th>18</th>\n      <td>National Storage Affiliates Trust</td>\n      <td>NSA</td>\n      <td>0.00</td>\n      <td>2020-02-25T02:00:00.000Z</td>\n      <td>AMC</td>\n    </tr>\n    <tr>\n      <th>19</th>\n      <td>Atrion Corp</td>\n      <td>ATRI</td>\n      <td>NaN</td>\n      <td>2020-02-25T02:00:00.000Z</td>\n      <td>AMC</td>\n    </tr>\n  </tbody>\n</table>\n</div>",
      "text/plain": "                             companyshortname ticker  epsestimate  \\\n0                      Berkshire Hathaway Inc   BRKB          NaN   \n1                     180 Degree Capital Corp   TURN          NaN   \n2                           Rent-A-Center Inc   RCII         0.57   \n3           Altisource Portfolio Solutions SA   ASPS         0.47   \n4              Armstrong World Industries Inc    AWI         0.86   \n5       Argo Group International Holdings Ltd   ARGO        -1.63   \n6              American National Insurance Co   ANAT          NaN   \n7                       Arlo Technologies Inc   ARLO        -0.31   \n8         Preferred Apartment Communities Inc   APTS        -0.69   \n9           Adams Diversified Equity Fund Inc    ADX          NaN   \n10                                Apergy Corp    APY         0.14   \n11                     Amarin Corporation PLC   AMRN        -0.02   \n12                           Asta Funding Inc   ASFI          NaN   \n13                   American States Water Co    AWR         0.38   \n14                     Crispr Therapeutics AG   CRSP        -0.63   \n15                 Apple Hospitality REIT Inc   APLE         0.11   \n16               TravelCenters of America LLC     TA        -1.01   \n17  Kratos Defense and Security Solutions Inc   KTOS         0.10   \n18          National Storage Affiliates Trust    NSA         0.00   \n19                                Atrion Corp   ATRI          NaN   \n\n               startdatetime startdatetimetype  \n0   2020-02-22T18:30:00.000Z               BMO  \n1   2020-02-25T02:00:00.000Z               AMC  \n2   2020-02-25T02:00:00.000Z               AMC  \n3   2020-02-24T15:59:00.000Z               TNS  \n4   2020-02-24T18:30:00.000Z               BMO  \n5   2020-02-25T02:00:00.000Z               AMC  \n6   2020-02-24T15:59:00.000Z               TNS  \n7   2020-02-24T15:59:00.000Z               TNS  \n8   2020-02-25T02:00:00.000Z               AMC  \n9   2020-02-25T02:00:00.000Z               AMC  \n10  2020-02-25T02:00:00.000Z               AMC  \n11  2020-02-24T13:30:00.000Z               BMO  \n12  2020-02-25T02:00:00.000Z               AMC  \n13  2020-02-25T02:00:00.000Z               AMC  \n14  2020-02-24T18:30:00.000Z               BMO  \n15  2020-02-25T02:00:00.000Z               AMC  \n16  2020-02-24T18:30:00.000Z               BMO  \n17  2020-02-25T02:00:00.000Z               AMC  \n18  2020-02-25T02:00:00.000Z               AMC  \n19  2020-02-25T02:00:00.000Z               AMC  "
     },
     "execution_count": 8,
     "metadata": {},
     "output_type": "execute_result"
    }
   ],
   "source": [
    "eps_df.head(20)"
   ]
  },
  {
   "cell_type": "code",
   "execution_count": 12,
   "metadata": {},
   "outputs": [
    {
     "name": "stdout",
     "output_type": "stream",
     "text": "HTTP Error 404: Not Found\nHTTP Error 404: Not Found\n"
    }
   ],
   "source": [
    "\n",
    "for i in range(len(eps_df)):\n",
    "\tticker = eps_df['ticker'].loc[i]\n",
    "\tprice_url = \"https://sandbox.iexapis.com/v1/stock/{}/quote/?token=Tpk_db75edaa9a9b4b2891dff83893eff6d6\".format(str(eps_df['ticker'].loc[i]).lower())\n",
    "\tstats_url = \"https://sandbox.iexapis.com/v1/stock/{}/advanced-stats/?token=Tpk_db75edaa9a9b4b2891dff83893eff6d6\".format(str(eps_df['ticker'].loc[i]).lower())\n",
    "\n",
    "\ttry:\n",
    "\t\tstats_result = get_data(stats_url)\n",
    "\t\tprice_result = get_data(price_url)\n",
    "\t\tpriceToSales.append(stats_result[\"priceToSales\"].values[0])\n",
    "\t\tpriceToBook.append(stats_result[\"priceToBook\"].values[0])\n",
    "\t\tsharesOutstanding.append(stats_result[\"sharesOutstanding\"].values[0])\n",
    "\t\tday5ChangePercent.append(stats_result[\"day5ChangePercent\"].values[0])\n",
    "\t\tdebt.append(stats_result[\"currentDebt\"].values[0])\n",
    "\t\tepsEstimate.append(eps_df['epsestimate'].loc[i])\n",
    "\t\tmarketCap.append(price_result[\"marketCap\"].values[0])\n",
    "\t\tpeRatio.append(price_result[\"peRatio\"].values[0])\n",
    "\t\tprice.append(price_result[\"latestPrice\"].values[0])\n",
    "\t\tticker_ary.append(ticker)\n",
    "\texcept Exception as e:\n",
    "\t\tprint(e)\n",
    "\t\tpass\n",
    "\n"
   ]
  },
  {
   "cell_type": "code",
   "execution_count": 13,
   "metadata": {},
   "outputs": [
    {
     "name": "stdout",
     "output_type": "stream",
     "text": "798 798 798 798 798 798 798 798 798\n"
    }
   ],
   "source": [
    "\n",
    "print(len(ticker_ary), len(marketCap), len(peRatio), len(price), len(debt), len(priceToSales), len(priceToBook), len(sharesOutstanding), len(day5ChangePercent))"
   ]
  },
  {
   "cell_type": "code",
   "execution_count": 14,
   "metadata": {},
   "outputs": [],
   "source": [
    "fin_analysis = pandas.DataFrame({\"ticker\": ticker_ary, \"epsEstimate\": epsEstimate, \"marketCap\": marketCap, \n",
    "                                 \"peRatio\": peRatio, \"price\": price, \"debt\": debt, \"priceToSales\": priceToSales , \n",
    "                                 \"priceToBook\" : priceToBook, \"sharesOutstanding\" : sharesOutstanding, \"day5ChangePercent\" : day5ChangePercent})\n",
    "fin_analysis[\"epsEstimate\"] = fin_analysis[\"epsEstimate\"]\n",
    "fin_analysis[\"price\"] = fin_analysis[\"price\"]\n",
    "fin_analysis[\"peRatio\"] = fin_analysis[\"peRatio\"]\n",
    "fin_analysis[\"priceToBook\"] = fin_analysis[\"priceToBook\"]\n",
    "fin_analysis[\"priceToSales\"] = fin_analysis[\"priceToSales\"]\n",
    "fin_analysis[\"debt\"] = fin_analysis[\"debt\"]\n",
    "fin_analysis[\"day5ChangePercent\"] = fin_analysis[\"day5ChangePercent\"]\n",
    "\n",
    "\n"
   ]
  },
  {
   "cell_type": "code",
   "execution_count": 15,
   "metadata": {},
   "outputs": [],
   "source": [
    "fin = fin_analysis[fin_analysis[\"epsEstimate\"] > 0 ]\n",
    "fin = fin_analysis[(fin_analysis[\"price\"] < 50) & (fin_analysis[\"price\"] > 0)]\n",
    "fin = fin_analysis[(fin_analysis[\"peRatio\"] < 11) & (fin_analysis[\"peRatio\"] != -1)]\n",
    "fin = fin_analysis[fin_analysis[\"priceToBook\"] < 10]\n",
    "fin = fin_analysis[fin_analysis[\"priceToSales\"] < 10 & (fin_analysis[\"priceToSales\"] > 0)]\n",
    "fin = fin_analysis[fin_analysis[\"debt\"] > 0]\n",
    "fin = fin_analysis[fin_analysis[\"day5ChangePercent\"] > 0]\n"
   ]
  },
  {
   "cell_type": "code",
   "execution_count": 16,
   "metadata": {},
   "outputs": [
    {
     "data": {
      "text/html": "<div>\n<style scoped>\n    .dataframe tbody tr th:only-of-type {\n        vertical-align: middle;\n    }\n\n    .dataframe tbody tr th {\n        vertical-align: top;\n    }\n\n    .dataframe thead th {\n        text-align: right;\n    }\n</style>\n<table border=\"1\" class=\"dataframe\">\n  <thead>\n    <tr style=\"text-align: right;\">\n      <th></th>\n      <th>ticker</th>\n      <th>epsEstimate</th>\n      <th>marketCap</th>\n      <th>peRatio</th>\n      <th>price</th>\n      <th>debt</th>\n      <th>priceToSales</th>\n      <th>priceToBook</th>\n      <th>sharesOutstanding</th>\n      <th>day5ChangePercent</th>\n    </tr>\n  </thead>\n  <tbody>\n    <tr>\n      <th>0</th>\n      <td>TURN</td>\n      <td>-1.00</td>\n      <td>67584268</td>\n      <td>-24.32</td>\n      <td>2.20</td>\n      <td>-1.0</td>\n      <td>-9.80</td>\n      <td>0.842820</td>\n      <td>31744997.0</td>\n      <td>0.002848</td>\n    </tr>\n    <tr>\n      <th>3</th>\n      <td>AWI</td>\n      <td>0.86</td>\n      <td>5227023246</td>\n      <td>23.94</td>\n      <td>111.74</td>\n      <td>56857540.0</td>\n      <td>5.51</td>\n      <td>20.090388</td>\n      <td>48595270.0</td>\n      <td>0.026042</td>\n    </tr>\n    <tr>\n      <th>5</th>\n      <td>ANAT</td>\n      <td>-1.00</td>\n      <td>3152219193</td>\n      <td>9.43</td>\n      <td>115.16</td>\n      <td>-1.0</td>\n      <td>-1.00</td>\n      <td>0.588438</td>\n      <td>27065291.0</td>\n      <td>0.033173</td>\n    </tr>\n    <tr>\n      <th>7</th>\n      <td>APTS</td>\n      <td>-0.69</td>\n      <td>586541412</td>\n      <td>-6.41</td>\n      <td>12.56</td>\n      <td>188800365.0</td>\n      <td>1.44</td>\n      <td>0.358719</td>\n      <td>47113008.0</td>\n      <td>0.022720</td>\n    </tr>\n    <tr>\n      <th>10</th>\n      <td>AMRN</td>\n      <td>-0.02</td>\n      <td>6503801465</td>\n      <td>-69.63</td>\n      <td>18.59</td>\n      <td>35425071.0</td>\n      <td>28.04</td>\n      <td>42.460630</td>\n      <td>365050394.0</td>\n      <td>0.018459</td>\n    </tr>\n    <tr>\n      <th>...</th>\n      <td>...</td>\n      <td>...</td>\n      <td>...</td>\n      <td>...</td>\n      <td>...</td>\n      <td>...</td>\n      <td>...</td>\n      <td>...</td>\n      <td>...</td>\n      <td>...</td>\n    </tr>\n    <tr>\n      <th>791</th>\n      <td>MTBCP</td>\n      <td>-1.00</td>\n      <td>356463909</td>\n      <td>-1.00</td>\n      <td>28.60</td>\n      <td>-1.0</td>\n      <td>-1.00</td>\n      <td>-1.000000</td>\n      <td>12390529.0</td>\n      <td>0.021894</td>\n    </tr>\n    <tr>\n      <th>794</th>\n      <td>MRSN</td>\n      <td>-0.38</td>\n      <td>440222132</td>\n      <td>-9.68</td>\n      <td>9.11</td>\n      <td>-1.0</td>\n      <td>-1.00</td>\n      <td>48.133365</td>\n      <td>50039547.0</td>\n      <td>0.132506</td>\n    </tr>\n    <tr>\n      <th>795</th>\n      <td>SMLP</td>\n      <td>0.06</td>\n      <td>220597995</td>\n      <td>-6.21</td>\n      <td>2.68</td>\n      <td>-1.0</td>\n      <td>0.44</td>\n      <td>0.178359</td>\n      <td>83350543.0</td>\n      <td>0.078027</td>\n    </tr>\n    <tr>\n      <th>796</th>\n      <td>TPRE</td>\n      <td>0.39</td>\n      <td>1046824722</td>\n      <td>-8.09</td>\n      <td>11.12</td>\n      <td>-1.0</td>\n      <td>-1.00</td>\n      <td>0.871403</td>\n      <td>96545004.0</td>\n      <td>0.005520</td>\n    </tr>\n    <tr>\n      <th>797</th>\n      <td>SVC</td>\n      <td>0.20</td>\n      <td>3852796374</td>\n      <td>22.62</td>\n      <td>23.14</td>\n      <td>-1.0</td>\n      <td>1.63</td>\n      <td>1.485349</td>\n      <td>171850444.0</td>\n      <td>0.002223</td>\n    </tr>\n  </tbody>\n</table>\n<p>348 rows × 10 columns</p>\n</div>",
      "text/plain": "    ticker  epsEstimate   marketCap  peRatio   price         debt  \\\n0     TURN        -1.00    67584268   -24.32    2.20         -1.0   \n3      AWI         0.86  5227023246    23.94  111.74   56857540.0   \n5     ANAT        -1.00  3152219193     9.43  115.16         -1.0   \n7     APTS        -0.69   586541412    -6.41   12.56  188800365.0   \n10    AMRN        -0.02  6503801465   -69.63   18.59   35425071.0   \n..     ...          ...         ...      ...     ...          ...   \n791  MTBCP        -1.00   356463909    -1.00   28.60         -1.0   \n794   MRSN        -0.38   440222132    -9.68    9.11         -1.0   \n795   SMLP         0.06   220597995    -6.21    2.68         -1.0   \n796   TPRE         0.39  1046824722    -8.09   11.12         -1.0   \n797    SVC         0.20  3852796374    22.62   23.14         -1.0   \n\n     priceToSales  priceToBook  sharesOutstanding  day5ChangePercent  \n0           -9.80     0.842820         31744997.0           0.002848  \n3            5.51    20.090388         48595270.0           0.026042  \n5           -1.00     0.588438         27065291.0           0.033173  \n7            1.44     0.358719         47113008.0           0.022720  \n10          28.04    42.460630        365050394.0           0.018459  \n..            ...          ...                ...                ...  \n791         -1.00    -1.000000         12390529.0           0.021894  \n794         -1.00    48.133365         50039547.0           0.132506  \n795          0.44     0.178359         83350543.0           0.078027  \n796         -1.00     0.871403         96545004.0           0.005520  \n797          1.63     1.485349        171850444.0           0.002223  \n\n[348 rows x 10 columns]"
     },
     "execution_count": 16,
     "metadata": {},
     "output_type": "execute_result"
    }
   ],
   "source": [
    "fin"
   ]
  },
  {
   "cell_type": "code",
   "execution_count": 22,
   "metadata": {},
   "outputs": [],
   "source": [
    "import boto3\n",
    "from io import StringIO"
   ]
  },
  {
   "cell_type": "code",
   "execution_count": 23,
   "metadata": {},
   "outputs": [],
   "source": [
    "s3 = boto3.client(\"s3\")"
   ]
  },
  {
   "cell_type": "code",
   "execution_count": 25,
   "metadata": {},
   "outputs": [
    {
     "data": {
      "text/plain": [
       "{'ResponseMetadata': {'RequestId': 'B47BD14A930636CA',\n",
       "  'HostId': 'SCm7shLhIru/nj8n7cIKMRVmWGfQyWMz39Jk5ZTGpIOsQFgq5YZy9MXB6CMVSMv22WZ+eQiIpc4=',\n",
       "  'HTTPStatusCode': 200,\n",
       "  'HTTPHeaders': {'x-amz-id-2': 'SCm7shLhIru/nj8n7cIKMRVmWGfQyWMz39Jk5ZTGpIOsQFgq5YZy9MXB6CMVSMv22WZ+eQiIpc4=',\n",
       "   'x-amz-request-id': 'B47BD14A930636CA',\n",
       "   'date': 'Mon, 20 Jan 2020 18:56:09 GMT',\n",
       "   'x-amz-version-id': 'SUjfnDHRp9pIh.haJTMdrEVmUVunzlKU',\n",
       "   'etag': '\"0e99dc3dd5dd424312d45e70311c99b2\"',\n",
       "   'content-length': '0',\n",
       "   'server': 'AmazonS3'},\n",
       "  'RetryAttempts': 0},\n",
       " 'ETag': '\"0e99dc3dd5dd424312d45e70311c99b2\"',\n",
       " 'VersionId': 'SUjfnDHRp9pIh.haJTMdrEVmUVunzlKU'}"
      ]
     },
     "execution_count": 25,
     "metadata": {},
     "output_type": "execute_result"
    }
   ],
   "source": [
    "bucket = 'azimuthcollector'\n",
    "csv_buffer = StringIO()\n",
    "fin_analysis.to_csv(csv_buffer, index=False)\n",
    "s3_resource = boto3.resource('s3')\n",
    "s3_resource.Object(bucket, f'azimuth_trades_{today}.csv').put(Body=csv_buffer.getvalue())"
   ]
  },
  {
   "cell_type": "code",
   "execution_count": 31,
   "metadata": {},
   "outputs": [
    {
     "ename": "ValueError",
     "evalue": "Invalid file path or buffer object type: <class 'dict'>",
     "output_type": "error",
     "traceback": [
      "\u001b[0;31m---------------------------------------------------------------------------\u001b[0m",
      "\u001b[0;31mValueError\u001b[0m                                Traceback (most recent call last)",
      "\u001b[0;32m<ipython-input-31-23f5ff6c6176>\u001b[0m in \u001b[0;36m<module>\u001b[0;34m\u001b[0m\n\u001b[1;32m     12\u001b[0m     \u001b[0;32mreturn\u001b[0m \u001b[0mresult\u001b[0m\u001b[0;34m\u001b[0m\u001b[0;34m\u001b[0m\u001b[0m\n\u001b[1;32m     13\u001b[0m \u001b[0;34m\u001b[0m\u001b[0m\n\u001b[0;32m---> 14\u001b[0;31m \u001b[0mx\u001b[0m \u001b[0;34m=\u001b[0m \u001b[0mget_data\u001b[0m\u001b[0;34m(\u001b[0m\u001b[0;34m'https://financialmodelingprep.com/api/v3/financials/balance-sheet-statement/GOOG?period=quarter'\u001b[0m\u001b[0;34m)\u001b[0m\u001b[0;34m\u001b[0m\u001b[0;34m\u001b[0m\u001b[0m\n\u001b[0m\u001b[1;32m     15\u001b[0m \u001b[0;34m\u001b[0m\u001b[0m\n\u001b[1;32m     16\u001b[0m \u001b[0mprint\u001b[0m\u001b[0;34m(\u001b[0m\u001b[0mx\u001b[0m\u001b[0;34m)\u001b[0m\u001b[0;34m\u001b[0m\u001b[0;34m\u001b[0m\u001b[0m\n",
      "\u001b[0;32m<ipython-input-31-23f5ff6c6176>\u001b[0m in \u001b[0;36mget_data\u001b[0;34m(url)\u001b[0m\n\u001b[1;32m      9\u001b[0m     \u001b[0mfile\u001b[0m \u001b[0;34m=\u001b[0m \u001b[0mresponse\u001b[0m\u001b[0;34m.\u001b[0m\u001b[0mread\u001b[0m\u001b[0;34m(\u001b[0m\u001b[0;34m)\u001b[0m\u001b[0;34m\u001b[0m\u001b[0;34m\u001b[0m\u001b[0m\n\u001b[1;32m     10\u001b[0m     \u001b[0mresult\u001b[0m \u001b[0;34m=\u001b[0m \u001b[0mjson\u001b[0m\u001b[0;34m.\u001b[0m\u001b[0mloads\u001b[0m\u001b[0;34m(\u001b[0m\u001b[0mfile\u001b[0m\u001b[0;34m)\u001b[0m\u001b[0;34m\u001b[0m\u001b[0;34m\u001b[0m\u001b[0m\n\u001b[0;32m---> 11\u001b[0;31m     \u001b[0mresult\u001b[0m \u001b[0;34m=\u001b[0m \u001b[0mpandas\u001b[0m\u001b[0;34m.\u001b[0m\u001b[0mread_json\u001b[0m\u001b[0;34m(\u001b[0m\u001b[0mresult\u001b[0m\u001b[0;34m)\u001b[0m\u001b[0;34m\u001b[0m\u001b[0;34m\u001b[0m\u001b[0m\n\u001b[0m\u001b[1;32m     12\u001b[0m     \u001b[0;32mreturn\u001b[0m \u001b[0mresult\u001b[0m\u001b[0;34m\u001b[0m\u001b[0;34m\u001b[0m\u001b[0m\n\u001b[1;32m     13\u001b[0m \u001b[0;34m\u001b[0m\u001b[0m\n",
      "\u001b[0;32m~/.local/lib/python3.6/site-packages/pandas/io/json/_json.py\u001b[0m in \u001b[0;36mread_json\u001b[0;34m(path_or_buf, orient, typ, dtype, convert_axes, convert_dates, keep_default_dates, numpy, precise_float, date_unit, encoding, lines, chunksize, compression)\u001b[0m\n\u001b[1;32m    567\u001b[0m     \u001b[0mcompression\u001b[0m \u001b[0;34m=\u001b[0m \u001b[0m_infer_compression\u001b[0m\u001b[0;34m(\u001b[0m\u001b[0mpath_or_buf\u001b[0m\u001b[0;34m,\u001b[0m \u001b[0mcompression\u001b[0m\u001b[0;34m)\u001b[0m\u001b[0;34m\u001b[0m\u001b[0;34m\u001b[0m\u001b[0m\n\u001b[1;32m    568\u001b[0m     filepath_or_buffer, _, compression, should_close = get_filepath_or_buffer(\n\u001b[0;32m--> 569\u001b[0;31m         \u001b[0mpath_or_buf\u001b[0m\u001b[0;34m,\u001b[0m \u001b[0mencoding\u001b[0m\u001b[0;34m=\u001b[0m\u001b[0mencoding\u001b[0m\u001b[0;34m,\u001b[0m \u001b[0mcompression\u001b[0m\u001b[0;34m=\u001b[0m\u001b[0mcompression\u001b[0m\u001b[0;34m\u001b[0m\u001b[0;34m\u001b[0m\u001b[0m\n\u001b[0m\u001b[1;32m    570\u001b[0m     )\n\u001b[1;32m    571\u001b[0m \u001b[0;34m\u001b[0m\u001b[0m\n",
      "\u001b[0;32m~/.local/lib/python3.6/site-packages/pandas/io/common.py\u001b[0m in \u001b[0;36mget_filepath_or_buffer\u001b[0;34m(filepath_or_buffer, encoding, compression, mode)\u001b[0m\n\u001b[1;32m    222\u001b[0m     \u001b[0;32mif\u001b[0m \u001b[0;32mnot\u001b[0m \u001b[0mis_file_like\u001b[0m\u001b[0;34m(\u001b[0m\u001b[0mfilepath_or_buffer\u001b[0m\u001b[0;34m)\u001b[0m\u001b[0;34m:\u001b[0m\u001b[0;34m\u001b[0m\u001b[0;34m\u001b[0m\u001b[0m\n\u001b[1;32m    223\u001b[0m         \u001b[0mmsg\u001b[0m \u001b[0;34m=\u001b[0m \u001b[0;34m\"Invalid file path or buffer object type: {_type}\"\u001b[0m\u001b[0;34m\u001b[0m\u001b[0;34m\u001b[0m\u001b[0m\n\u001b[0;32m--> 224\u001b[0;31m         \u001b[0;32mraise\u001b[0m \u001b[0mValueError\u001b[0m\u001b[0;34m(\u001b[0m\u001b[0mmsg\u001b[0m\u001b[0;34m.\u001b[0m\u001b[0mformat\u001b[0m\u001b[0;34m(\u001b[0m\u001b[0m_type\u001b[0m\u001b[0;34m=\u001b[0m\u001b[0mtype\u001b[0m\u001b[0;34m(\u001b[0m\u001b[0mfilepath_or_buffer\u001b[0m\u001b[0;34m)\u001b[0m\u001b[0;34m)\u001b[0m\u001b[0;34m)\u001b[0m\u001b[0;34m\u001b[0m\u001b[0;34m\u001b[0m\u001b[0m\n\u001b[0m\u001b[1;32m    225\u001b[0m \u001b[0;34m\u001b[0m\u001b[0m\n\u001b[1;32m    226\u001b[0m     \u001b[0;32mreturn\u001b[0m \u001b[0mfilepath_or_buffer\u001b[0m\u001b[0;34m,\u001b[0m \u001b[0;32mNone\u001b[0m\u001b[0;34m,\u001b[0m \u001b[0mcompression\u001b[0m\u001b[0;34m,\u001b[0m \u001b[0;32mFalse\u001b[0m\u001b[0;34m\u001b[0m\u001b[0;34m\u001b[0m\u001b[0m\n",
      "\u001b[0;31mValueError\u001b[0m: Invalid file path or buffer object type: <class 'dict'>"
     ]
    }
   ],
   "source": [
    "#get data from bloomberg\n",
    "import pandas\n",
    "import urllib\n",
    "import json \n",
    "\n",
    "def get_data(url):\n",
    "    req = urllib.request.Request(url)\n",
    "    response = urllib.request.urlopen(req)\n",
    "    file = response.read()\n",
    "    result = json.loads(file)\n",
    "    result = pandas.read_json(result)\n",
    "    return result\n",
    "\n",
    "x = get_data('https://financialmodelingprep.com/api/v3/financials/balance-sheet-statement/GOOG?period=quarter')\n",
    "\n",
    "print(x)"
   ]
  },
  {
   "cell_type": "code",
   "execution_count": null,
   "metadata": {},
   "outputs": [],
   "source": []
  }
 ],
 "metadata": {
  "kernelspec": {
   "display_name": "Python 3",
   "language": "python",
   "name": "python3"
  },
  "language_info": {
   "codemirror_mode": {
    "name": "ipython",
    "version": 3
   },
   "file_extension": ".py",
   "mimetype": "text/x-python",
   "name": "python",
   "nbconvert_exporter": "python",
   "pygments_lexer": "ipython3",
   "version": "3.6.9-final"
  }
 },
 "nbformat": 4,
 "nbformat_minor": 4
}